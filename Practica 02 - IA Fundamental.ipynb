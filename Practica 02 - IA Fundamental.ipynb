{
  "nbformat": 4,
  "nbformat_minor": 0,
  "metadata": {
    "colab": {
      "provenance": [],
      "authorship_tag": "ABX9TyPBXh7mkk3v+saKAibWLzO7",
      "include_colab_link": true
    },
    "kernelspec": {
      "name": "python3",
      "display_name": "Python 3"
    },
    "language_info": {
      "name": "python"
    }
  },
  "cells": [
    {
      "cell_type": "markdown",
      "metadata": {
        "id": "view-in-github",
        "colab_type": "text"
      },
      "source": [
        "<a href=\"https://colab.research.google.com/github/JordanDSIA/2025_UTEC_PROGRAMACION_101/blob/main/Practica%2002%20-%20IA%20Fundamental.ipynb\" target=\"_parent\"><img src=\"https://colab.research.google.com/assets/colab-badge.svg\" alt=\"Open In Colab\"/></a>"
      ]
    },
    {
      "cell_type": "markdown",
      "source": [
        "Importar Librerias"
      ],
      "metadata": {
        "id": "gRNEGTb4diMK"
      }
    },
    {
      "cell_type": "code",
      "source": [
        "import numpy as np\n",
        "from scipy.spatial.distance import pdist, squareform\n",
        "from matplotlib import pyplot as plt\n",
        "import time # Importar para medir el tiempo de ejecución"
      ],
      "metadata": {
        "id": "cVzQdX_tdnTd"
      },
      "execution_count": 1,
      "outputs": []
    },
    {
      "cell_type": "markdown",
      "source": [
        "Parámetros del Problema, Nodos y Matriz de Distancias"
      ],
      "metadata": {
        "id": "jprChbxOdu1P"
      }
    },
    {
      "cell_type": "code",
      "source": [
        "N = 6       # Cantidad de CLIENTES\n",
        "N_VEHICLES = 3 # Cantidad de vehículos\n",
        "\n",
        "# Nodos Generados = N clientes + 1 depósito\n",
        "positions = np.random.rand(N + 1, 2)\n",
        "\n",
        "# Calcular la matriz de distancias entre todos los nodos\n",
        "distances = squareform(pdist(positions, 'euclidean'))\n",
        "\n",
        "print(\"Número de clientes:\", N)\n",
        "print(\"Número total de nodos (1 Deposito + Clientes):\", N + 1)\n",
        "print(\"Número de vehículos:\", N_VEHICLES)\n",
        "print(\"\\nPosiciones de los nodos (Depósito en índice 0):\")\n",
        "print(positions[:5], \"...\")\n",
        "print(\"\\nMatriz de distancias:\")\n",
        "print(distances[:5, :5], \"...\")"
      ],
      "metadata": {
        "colab": {
          "base_uri": "https://localhost:8080/"
        },
        "id": "Zd10v50nd1cN",
        "outputId": "a0cd5d71-a772-4a80-a60b-b2e87bdba7dd"
      },
      "execution_count": 7,
      "outputs": [
        {
          "output_type": "stream",
          "name": "stdout",
          "text": [
            "Número de clientes: 6\n",
            "Número total de nodos (1 Deposito + Clientes): 7\n",
            "Número de vehículos: 3\n",
            "\n",
            "Posiciones de los nodos (Depósito en índice 0):\n",
            "[[0.70627556 0.70196547]\n",
            " [0.85381628 0.24010737]\n",
            " [0.02922538 0.48728715]\n",
            " [0.20907495 0.74452984]\n",
            " [0.12899056 0.35140207]] ...\n",
            "\n",
            "Matriz de distancias:\n",
            "[[0.         0.4848517  0.71027018 0.49901922 0.67539076]\n",
            " [0.4848517  0.         0.86084145 0.81861677 0.73332042]\n",
            " [0.71027018 0.86084145 0.         0.31387843 0.16857594]\n",
            " [0.49901922 0.81861677 0.31387843 0.         0.40120189]\n",
            " [0.67539076 0.73332042 0.16857594 0.40120189 0.        ]] ...\n"
          ]
        }
      ]
    },
    {
      "cell_type": "markdown",
      "source": [
        "Fitness(Función Objetivo) , Generación de Vecinos y Aceptación"
      ],
      "metadata": {
        "id": "nZQ1ZRcKhPWI"
      }
    },
    {
      "cell_type": "code",
      "source": [
        "def fitness(sol):\n",
        "    distance = 0\n",
        "    for i in range(len(sol) - 1):\n",
        "        distance += distances[sol[i]][sol[i+1]]\n",
        "    # Para VRP con depósitos explícitos en la ruta, distances[sol[-1]][sol[0]] y distances[0][0] que es 0.\n",
        "    distance += distances[sol[-1]][sol[0]]\n",
        "    return distance\n",
        "\n",
        "def get_neighbors(sol):\n",
        "    neighbors = []\n",
        "    num_elements = len(sol) # Longitud de la secuencia VRP (clientes + depósitos)\n",
        "    for i in range(num_elements - 1):\n",
        "        for j in range(i + 1, num_elements):\n",
        "            new_sol = sol.copy()\n",
        "            new_sol[i], new_sol[j] = new_sol[j], new_sol[i]\n",
        "            neighbors.append(new_sol)\n",
        "    return neighbors\n",
        "\n",
        "def random_neighbor(sol):\n",
        "    num_elements = len(sol) # Longitud de la secuencia VRP (clientes + depósitos)\n",
        "    i, j = np.random.choice(num_elements, 2, replace=False)\n",
        "    new_sol = sol.copy()\n",
        "    new_sol[i], new_sol[j] = new_sol[j], new_sol[i]\n",
        "    return new_sol\n",
        "\n",
        "def accept(delta, T):\n",
        "    if delta < 0:\n",
        "        return True\n",
        "    else:\n",
        "        r = np.random.rand()\n",
        "        return r < np.exp(-delta/T)"
      ],
      "metadata": {
        "id": "z13DNbiWhdHz"
      },
      "execution_count": null,
      "outputs": []
    },
    {
      "cell_type": "markdown",
      "source": [
        "Algoritmos de Búsqueda Local"
      ],
      "metadata": {
        "id": "IWv7SC2blC_a"
      }
    },
    {
      "cell_type": "code",
      "source": [
        "def hill_climbing(initial_solution):\n",
        "    current_solution = initial_solution.copy()\n",
        "    while True:\n",
        "        neighbors = get_neighbors(current_solution)\n",
        "        best_neighbor = min(neighbors, key=fitness)\n",
        "        if fitness(best_neighbor) < fitness(current_solution):\n",
        "            current_solution = best_neighbor\n",
        "        else:\n",
        "            return current_solution\n",
        "\n",
        "def simulated_annealing(T_max, T_min, cooling_rate, initial_solution):\n",
        "    T = T_max\n",
        "    x = initial_solution.copy()\n",
        "    E = fitness(x)\n",
        "    while (T > T_min):\n",
        "        x_new = random_neighbor(x)\n",
        "        E_new = fitness(x_new)\n",
        "        delta = E_new - E\n",
        "        if accept(delta, T):\n",
        "            x = x_new\n",
        "            E = E_new\n",
        "        T = T * cooling_rate\n",
        "    return x"
      ],
      "metadata": {
        "id": "Vi2aVAuwk9Kb"
      },
      "execution_count": null,
      "outputs": []
    },
    {
      "cell_type": "markdown",
      "source": [
        "Función de Ploteo"
      ],
      "metadata": {
        "id": "ryu8v3vale3j"
      }
    },
    {
      "cell_type": "code",
      "source": [],
      "metadata": {
        "id": "O9ePAJh8k_Cv"
      },
      "execution_count": null,
      "outputs": []
    }
  ]
}