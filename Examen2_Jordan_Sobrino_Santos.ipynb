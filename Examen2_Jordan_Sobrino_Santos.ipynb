{
  "nbformat": 4,
  "nbformat_minor": 0,
  "metadata": {
    "colab": {
      "provenance": [],
      "authorship_tag": "ABX9TyMz3MfXm7wlDscQ/eM6Haay",
      "include_colab_link": true
    },
    "kernelspec": {
      "name": "python3",
      "display_name": "Python 3"
    },
    "language_info": {
      "name": "python"
    }
  },
  "cells": [
    {
      "cell_type": "markdown",
      "metadata": {
        "id": "view-in-github",
        "colab_type": "text"
      },
      "source": [
        "<a href=\"https://colab.research.google.com/github/JordanDSIA/2025_UTEC_PROGRAMACION_101/blob/main/Examen2_Jordan_Sobrino_Santos.ipynb\" target=\"_parent\"><img src=\"https://colab.research.google.com/assets/colab-badge.svg\" alt=\"Open In Colab\"/></a>"
      ]
    },
    {
      "cell_type": "code",
      "execution_count": 3,
      "metadata": {
        "colab": {
          "base_uri": "https://localhost:8080/"
        },
        "id": "SF9_z-J5mUqZ",
        "outputId": "6344f4e7-abae-423b-ae6c-101b2eb27128"
      },
      "outputs": [
        {
          "output_type": "stream",
          "name": "stdout",
          "text": [
            "--- Ejercicio 1: Catálogo de contenido (Listas y tuplas) ---\n",
            "\n",
            "Lista convertida: ['Breaking Python', 'Data Science 101', 'Machine Love', 'Debug Wars']\n",
            "\n",
            "Lista después de agregar 'Neural Networks': ['Breaking Python', 'Data Science 101', 'Machine Love', 'Debug Wars', 'Neural Networks']\n",
            "\n",
            "Lista después de reemplazar 'Debug Wars' por 'AI Rebellion': ['Breaking Python', 'Data Science 101', 'Machine Love', 'AI Rebellion', 'Neural Networks']\n",
            "\n",
            "Lista ordenada alfabéticamente: ['AI Rebellion', 'Breaking Python', 'Data Science 101', 'Machine Love', 'Neural Networks']\n",
            "\n",
            "--- Fin del Ejercicio ---\n"
          ]
        }
      ],
      "source": [
        "print(\"--- Ejercicio 1: Catálogo de contenido (Listas y tuplas) ---\")\n",
        "\n",
        "# Tupla inicial con las series más vistas\n",
        "catalogo_popular = (\"Breaking Python\", \"Data Science 101\", \"Machine Love\", \"Debug Wars\")\n",
        "\n",
        "# Convertimos la tupla en una lista\n",
        "catalogo_lista = list(catalogo_popular)\n",
        "print(f\"\\nLista convertida: {catalogo_lista}\")\n",
        "\n",
        "# Agregamos una nueva serie\n",
        "catalogo_lista.append(\"Neural Networks\")\n",
        "print(f\"\\nLista después de agregar 'Neural Networks': {catalogo_lista}\")\n",
        "\n",
        "# Reemplaza \"Debug Wars\" por \"AI Rebellion\"\n",
        "indice_debug_wars = catalogo_lista.index(\"Debug Wars\")\n",
        "catalogo_lista[indice_debug_wars] = \"AI Rebellion\"\n",
        "print(f\"\\nLista después de reemplazar 'Debug Wars' por 'AI Rebellion': {catalogo_lista}\")\n",
        "\n",
        "# - Ordena la lista alfabéticamente\n",
        "catalogo_lista.sort()\n",
        "print(f\"\\nLista ordenada alfabéticamente: {catalogo_lista}\")\n",
        "\n",
        "print(\"\\n--- Fin del Ejercicio ---\")"
      ]
    },
    {
      "cell_type": "code",
      "source": [
        "print(\"--- Ejercicio 2: Filtrado de géneros (Slicing) ---\")\n",
        "\n",
        "# Lista con los generos disponibles\n",
        "generos = [\"Drama\", \"Comedia\", \"Acción\", \"Sci-Fi\", \"Documental\", \"Terror\", \"Romance\"]\n",
        "print(f\"Géneros originales: {generos}\")\n",
        "\n",
        "# Un slicing que obtenga los géneros del medio\n",
        "generos_medio = generos[2:5]\n",
        "print(f\"Géneros del medio: {generos_medio}\")\n",
        "\n",
        "# Un slicing que obtenga los tres primeros géneros\n",
        "primeros_tres_generos = generos[0:3]\n",
        "print(f\"Los tres primeros géneros: {primeros_tres_generos}\")\n",
        "\n",
        "# Los géneros ordenados en orden inverso (usando slicing)\n",
        "generos_inverso = generos[::-1]\n",
        "print(f\"Géneros en orden inverso: {generos_inverso}\")\n",
        "\n",
        "print(\"\\n--- Fin del Ejercicio ---\")"
      ],
      "metadata": {
        "colab": {
          "base_uri": "https://localhost:8080/"
        },
        "id": "blwhX0kAyAWz",
        "outputId": "b7e1ff4a-3df5-463f-ae6b-69162cced1de"
      },
      "execution_count": 4,
      "outputs": [
        {
          "output_type": "stream",
          "name": "stdout",
          "text": [
            "--- Ejercicio 2: Filtrado de géneros (Slicing) ---\n",
            "Géneros originales: ['Drama', 'Comedia', 'Acción', 'Sci-Fi', 'Documental', 'Terror', 'Romance']\n",
            "Géneros del medio: ['Acción', 'Sci-Fi', 'Documental']\n",
            "Los tres primeros géneros: ['Drama', 'Comedia', 'Acción']\n",
            "Géneros en orden inverso: ['Romance', 'Terror', 'Documental', 'Sci-Fi', 'Acción', 'Comedia', 'Drama']\n",
            "\n",
            "--- Fin del Ejercicio ---\n"
          ]
        }
      ]
    },
    {
      "cell_type": "code",
      "source": [
        "print(\"--- Ejercicio 3: Puntajes de usuarios (Listas por comprensión) ---\")\n",
        "\n",
        "ratings = [4.5, 3.0, 5.0, 2.5, 4.0, 1.5]\n",
        "print(f\"\\nRatings originales: {ratings}\")\n",
        "\n",
        "# 1. Crea una lista con solo los ratings mayores a 3.5\n",
        "ratings_altos = [rating for rating in ratings if rating > 3.5]\n",
        "print(f\"\\nRatings mayores a 3.5: {ratings_altos}\")\n",
        "\n",
        "# 2. Una lista con los ratings convertidos a una escala del 0 al 100\n",
        "\n",
        "ratings_escala_100 = [rating * 20 for rating in ratings]\n",
        "print(f\"\\nRatings en escala 0-100: {ratings_escala_100}\")\n",
        "\n",
        "# 3. Una lista de strings que diga \"Alta\" si rating > 4, \"Media\" si entre 3 y 4, \"Baja\" si menor\n",
        "\n",
        "calificaciones = [\"Alta\" if rating > 4 else (\"Media\" if rating >= 3 and rating <= 4 else \"Baja\") for rating in ratings]\n",
        "print(f\"\\nLas Calificaciones son : {calificaciones_texto}\")\n",
        "\n",
        "print(\"\\n--- Fin del Ejercicio ---\")"
      ],
      "metadata": {
        "colab": {
          "base_uri": "https://localhost:8080/"
        },
        "id": "WeVsd_DxyAPP",
        "outputId": "ec278848-9e29-4d5c-87e6-e4e040ee4746"
      },
      "execution_count": 8,
      "outputs": [
        {
          "output_type": "stream",
          "name": "stdout",
          "text": [
            "--- Ejercicio 3: Puntajes de usuarios (Listas por comprensión) ---\n",
            "\n",
            "Ratings originales: [4.5, 3.0, 5.0, 2.5, 4.0, 1.5]\n",
            "\n",
            "Ratings mayores a 3.5: [4.5, 5.0, 4.0]\n",
            "\n",
            "Ratings en escala 0-100: [90.0, 60.0, 100.0, 50.0, 80.0, 30.0]\n",
            "\n",
            "Las Calificaciones son : ['Alta', 'Media', 'Alta', 'Baja', 'Media', 'Baja']\n",
            "\n",
            "--- Fin del Ejercicio ---\n"
          ]
        }
      ]
    },
    {
      "cell_type": "code",
      "source": [
        "print(\"--- Ejercicio 4: Historial de visualización (Diccionarios) ---\")\n",
        "\n",
        "historial = {\n",
        "    \"Breaking Python\": 3,\n",
        "    \"Machine Love\": 5,\n",
        "    \"Data Science 101\": 2\n",
        "}\n",
        "\n",
        "print(f\"\\nHistorial original: {historial}\")\n",
        "\n",
        "# 1. Aumenta en 1 la cantidad de veces que vio \"Data Science 101\"\n",
        "historial[\"Data Science 101\"] = historial[\"Data Science 101\"] + 1\n",
        "print(f\"\\nHistorial después de aumentar 'Data Science 101': {historial}\")\n",
        "\n",
        "# 2. Añade la serie \"AI Rebellion\" con 1 visualización\n",
        "historial[\"AI Rebellion\"] = 1\n",
        "print(f\"\\nHistorial después de añadir 'AI Rebellion': {historial}\")\n",
        "\n",
        "# 3. Elimina \"Machine Love\" del historial\n",
        "del historial[\"Machine Love\"]\n",
        "print(f\"\\nHistorial después de eliminar 'Machine Love': {historial}\")\n",
        "\n",
        "# 4. Muestra todas las series que el usuario vio más de 2 veces\n",
        "print(\"\\nSeries vistas más de 2 veces:\")\n",
        "for serie, visualizaciones in historial.items(): # .items() devuelve pares clave-valor\n",
        "    if visualizaciones > 2:\n",
        "        print(f\"- {serie} (Vistas: {visualizaciones})\")\n",
        "\n",
        "print(\"\\n--- Fin del Ejercicio ---\")"
      ],
      "metadata": {
        "colab": {
          "base_uri": "https://localhost:8080/"
        },
        "id": "bLIfkgxT4UqL",
        "outputId": "11b2433c-fb58-48fd-b4f0-e5c4e3ff5df1"
      },
      "execution_count": 9,
      "outputs": [
        {
          "output_type": "stream",
          "name": "stdout",
          "text": [
            "--- Ejercicio 4: Historial de visualización (Diccionarios) ---\n",
            "\n",
            "Historial original: {'Breaking Python': 3, 'Machine Love': 5, 'Data Science 101': 2}\n",
            "\n",
            "Historial después de aumentar 'Data Science 101': {'Breaking Python': 3, 'Machine Love': 5, 'Data Science 101': 3}\n",
            "\n",
            "Historial después de añadir 'AI Rebellion': {'Breaking Python': 3, 'Machine Love': 5, 'Data Science 101': 3, 'AI Rebellion': 1}\n",
            "\n",
            "Historial después de eliminar 'Machine Love': {'Breaking Python': 3, 'Data Science 101': 3, 'AI Rebellion': 1}\n",
            "\n",
            "Series vistas más de 2 veces:\n",
            "- Breaking Python (Vistas: 3)\n",
            "- Data Science 101 (Vistas: 3)\n",
            "\n",
            "--- Fin del Ejercicio ---\n"
          ]
        }
      ]
    },
    {
      "cell_type": "code",
      "source": [
        "print(\"--- Ejercicio 5: Usuarios únicos por serie (Sets) ---\")\n",
        "\n",
        "# Definición de los sets de usuarios\n",
        "usuarios_serie_A = {\"ana\", \"luis\", \"pedro\", \"maria\"}\n",
        "usuarios_serie_B = {\"maria\", \"pedro\", \"carla\", \"lucas\"}\n",
        "\n",
        "print(f\"\\nUsuarios de la Serie A: {usuarios_serie_A}\")\n",
        "print(f\"Usuarios de la Serie B: {usuarios_serie_B}\")\n",
        "\n",
        "# 1. Encuentra qué usuarios vieron ambas series (INTERSECCIÓN)\n",
        "usuarios_ambas_series = usuarios_serie_A & usuarios_serie_B\n",
        "print(f\"\\nUsuarios que vieron ambas series (intersección): {usuarios_ambas_series}\")\n",
        "\n",
        "\n",
        "# 2. Qué usuarios vieron solo la serie A (DIFERENCIA)\n",
        "usuarios_solo_serie_A = usuarios_serie_A - usuarios_serie_B\n",
        "print(f\"\\nUsuarios que vieron SOLO la serie A (diferencia): {usuarios_solo_serie_A}\")\n",
        "\n",
        "# 3. Qué usuarios únicos vieron al menos una de las dos (UNIÓN)\n",
        "usuarios_al_menos_una = usuarios_serie_A | usuarios_serie_B\n",
        "print(f\"\\nUsuarios únicos que vieron al menos una de las dos (unión): {usuarios_al_menos_una}\")\n",
        "\n",
        "print(\"\\n--- Fin del Ejercicio ---\")"
      ],
      "metadata": {
        "colab": {
          "base_uri": "https://localhost:8080/"
        },
        "id": "9bCNkA1n5Qc3",
        "outputId": "7bc5c6ff-5bb1-4070-df75-3d9ba0a32806"
      },
      "execution_count": 10,
      "outputs": [
        {
          "output_type": "stream",
          "name": "stdout",
          "text": [
            "--- Ejercicio 5: Usuarios únicos por serie (Sets) ---\n",
            "\n",
            "Usuarios de la Serie A: {'luis', 'maria', 'ana', 'pedro'}\n",
            "Usuarios de la Serie B: {'carla', 'maria', 'pedro', 'lucas'}\n",
            "\n",
            "Usuarios que vieron ambas series (intersección): {'maria', 'pedro'}\n",
            "\n",
            "Usuarios que vieron SOLO la serie A (diferencia): {'ana', 'luis'}\n",
            "\n",
            "Usuarios únicos que vieron al menos una de las dos (unión): {'carla', 'ana', 'maria', 'pedro', 'lucas', 'luis'}\n",
            "\n",
            "--- Fin del Ejercicio ---\n"
          ]
        }
      ]
    },
    {
      "cell_type": "code",
      "source": [
        "print(\"--- Ejercicio 7: Transformar ratings (Tuplas + comprensión de diccionario) ---\")\n",
        "\n",
        "puntuaciones = [(\"Breaking Python\", 4.0), (\"AI Rebellion\", 5.0), (\"Debug Wars\", 2.0)]\n",
        "\n",
        "print(f\"\\nLista de tuplas de puntuaciones: {puntuaciones}\")\n",
        "\n",
        "# Crea un diccionario en el formato Key : Value\n",
        "\n",
        "calificaciones_texto_dict = {\n",
        "    serie: (\n",
        "        \"Excelente\" if rating >= 4.5 else (\n",
        "            \"Buena\" if 3 <= rating < 4.5 else \"Regular\"\n",
        "        )\n",
        "    )\n",
        "    for serie, rating in puntuaciones\n",
        "}\n",
        "\n",
        "print(f\"\\nDiccionario de calificaciones transformadas: {calificaciones_texto_dict}\")\n",
        "\n",
        "print(\"\\n--- Fin del Ejercicio ---\")"
      ],
      "metadata": {
        "colab": {
          "base_uri": "https://localhost:8080/"
        },
        "id": "PsUysXMt7Umv",
        "outputId": "7a9cf745-9920-4359-d560-cbb061296fcb"
      },
      "execution_count": 11,
      "outputs": [
        {
          "output_type": "stream",
          "name": "stdout",
          "text": [
            "--- Ejercicio 7: Transformar ratings (Tuplas + comprensión de diccionario) ---\n",
            "\n",
            "Lista de tuplas de puntuaciones: [('Breaking Python', 4.0), ('AI Rebellion', 5.0), ('Debug Wars', 2.0)]\n",
            "\n",
            "Diccionario de calificaciones transformadas: {'Breaking Python': 'Buena', 'AI Rebellion': 'Excelente', 'Debug Wars': 'Regular'}\n",
            "\n",
            "--- Fin del Ejercicio ---\n"
          ]
        }
      ]
    },
    {
      "cell_type": "code",
      "source": [
        "print(\"--- Ejercicio 9: Resumen de votos por serie (Diccionario + listas) ---\")\n",
        "\n",
        "votos = [\n",
        "    (\"Breaking Python\", 5),\n",
        "    (\"AI Rebellion\", 4),\n",
        "    (\"Breaking Python\", 4),\n",
        "    (\"Debug Wars\", 3),\n",
        "    (\"AI Rebellion\", 5)\n",
        "]\n",
        "\n",
        "print(f\"\\nLista de votos original: {votos}\")\n",
        "\n",
        "# 1. Crea un diccionario donde la clave sea la serie y el valor una lista con todos sus votos.\n",
        "resumen_votos_por_serie = {}\n",
        "\n",
        "for serie, puntaje in votos:\n",
        "    if serie not in resumen_votos_por_serie:\n",
        "        resumen_votos_por_serie[serie] = []\n",
        "    resumen_votos_por_serie[serie].append(puntaje)\n",
        "\n",
        "print(f\"\\nDiccionario de votos por serie: {resumen_votos_por_serie}\")\n",
        "\n",
        "# 2. Calcula el promedio de rating de cada serie.\n",
        "print(\"\\nPromedio de rating por serie:\")\n",
        "promedios_por_serie = {}\n",
        "\n",
        "for serie, lista_puntajes in resumen_votos_por_serie.items():\n",
        "    suma_puntajes = sum(lista_puntajes)\n",
        "    cantidad_votos = len(lista_puntajes)\n",
        "\n",
        "    if cantidad_votos > 0:\n",
        "        promedio = suma_puntajes / cantidad_votos\n",
        "        promedios_por_serie[serie] = round(promedio, 2)\n",
        "    else:\n",
        "        promedios_por_serie[serie] = 0\n",
        "\n",
        "print(promedios_por_serie)\n",
        "\n",
        "print(\"\\n--- Fin del Ejercicio ---\")"
      ],
      "metadata": {
        "id": "A_qp_QEk8lxv"
      },
      "execution_count": null,
      "outputs": []
    }
  ]
}