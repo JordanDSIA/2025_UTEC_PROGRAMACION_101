{
  "nbformat": 4,
  "nbformat_minor": 0,
  "metadata": {
    "colab": {
      "provenance": [],
      "include_colab_link": true
    },
    "kernelspec": {
      "name": "python3",
      "display_name": "Python 3"
    },
    "language_info": {
      "name": "python"
    }
  },
  "cells": [
    {
      "cell_type": "markdown",
      "metadata": {
        "id": "view-in-github",
        "colab_type": "text"
      },
      "source": [
        "<a href=\"https://colab.research.google.com/github/JordanDSIA/2025_UTEC_PROGRAMACION_101/blob/main/Examen_Programaci%C3%B3n_101_M%C3%B3dulo_3.ipynb\" target=\"_parent\"><img src=\"https://colab.research.google.com/assets/colab-badge.svg\" alt=\"Open In Colab\"/></a>"
      ]
    },
    {
      "cell_type": "markdown",
      "source": [
        "<img src=\"https://posgrado.utec.edu.pe/sites/default/files/2023-08/Testimonial-home-2.jpg\" alt=\"HTML5 Icon\" width=\"900\" height=\"250\" >"
      ],
      "metadata": {
        "id": "F0pagrVwedlT"
      }
    },
    {
      "cell_type": "markdown",
      "source": [
        "#**Examen Programación 101 – Módulo 3**"
      ],
      "metadata": {
        "id": "n0QIu7WQMANP"
      }
    },
    {
      "cell_type": "markdown",
      "source": [
        "**Contexto:**\n",
        "\n",
        "Estás colaborando con un equipo de analistas que trabaja en el diseño de herramientas básicas para preparar, limpiar y analizar datos antes de que sean utilizados por científicos de datos. Estas herramientas deben ejecutarse en entornos controlados, sin acceso a librerías externas y con requisitos mínimos de procesamiento.\n",
        "\n",
        "Cada ejercicio del examen representa uno de los desafíos que debes resolver como parte del equipo de soporte analítico: desde calcular estadísticas básicas, limpiar entradas de texto, hasta realizar predicciones sencillas con modelos lineales simulados."
      ],
      "metadata": {
        "id": "miMQKZv6MHrC"
      }
    },
    {
      "cell_type": "markdown",
      "source": [
        "\n",
        "\n",
        "**Nombre y Apellido:**\n",
        "\n",
        "---"
      ],
      "metadata": {
        "id": "ivo0N7RXM0VM"
      }
    },
    {
      "cell_type": "markdown",
      "source": [
        "Duración: 45 minutos\n"
      ],
      "metadata": {
        "id": "5UN_MQy1M76N"
      }
    },
    {
      "cell_type": "markdown",
      "source": [
        "**Instrucciones**\n",
        "\n",
        "Puedes utilizar:\n",
        "\n",
        "- Definición de funciones (def)\n",
        "\n",
        "- Creación de clases (class)\n",
        "\n",
        "- Listas, strings, diccionarios, operadores, condicionales, bucles\n",
        "\n",
        "- Funciones integradas como sum(), len(), max(), min(), sorted()\n",
        "\n",
        "- No uses pandas, numpy, matplotlib, ni lectura de archivos.\n",
        "\n",
        "Se evaluará no solo la respuesta correcta, sino también la claridad del código, las buenas prácticas (nombres descriptivos, comentarios si es necesario), el uso adecuado de estructuras de datos y la lógica general."
      ],
      "metadata": {
        "id": "JXUtBQpVM_Da"
      }
    },
    {
      "cell_type": "markdown",
      "source": [
        "**Pregunta 1 – Estadística simple**"
      ],
      "metadata": {
        "id": "EpERA8PAN-wz"
      }
    },
    {
      "cell_type": "markdown",
      "source": [
        "Dado el siguiente conjunto de datos:\n",
        "```\n",
        "valores = [12, 17, 15, 21, 17, 18, 15, 19, 21, 17]\n",
        "```\n",
        "Escribe una función resumen_estadistico(lista) que retorne un diccionario con las siguientes claves:\n",
        "\n",
        "- \"promedio\": promedio de los valores\n",
        "\n",
        "- \"min\": valor mínimo\n",
        "\n",
        "- \"max\": valor máximo\n",
        "\n",
        "- \"moda\": valor que más veces se repite en la lista"
      ],
      "metadata": {
        "id": "guv8XWUSOBdx"
      }
    },
    {
      "cell_type": "code",
      "execution_count": null,
      "metadata": {
        "id": "_R4-sqZ1LhZL",
        "colab": {
          "base_uri": "https://localhost:8080/"
        },
        "outputId": "0c7085ad-bd8b-45a2-b62e-86b4785809f8"
      },
      "outputs": [
        {
          "output_type": "stream",
          "name": "stdout",
          "text": [
            "--- Pregunta 1: Estadística Simple ---\n",
            "Lista de valores: [12, 17, 15, 21, 17, 18, 15, 19, 21, 17]\n",
            "Resumen estadístico: {'promedio': 17.2, 'min': 12, 'max': 21, 'moda': 17}\n"
          ]
        }
      ],
      "source": [
        "# Your code starts here\n",
        "def resumen_estadistico(lista):\n",
        "  '''\n",
        "  Crea una funcion que devuelve las estadísticas, promedio, mínimo, máximo y moda de una lista de números.\n",
        "  '''\n",
        "  # Contador de elementos\n",
        "  contador_elementos = 0\n",
        "  for _ in lista:\n",
        "      contador_elementos += 1\n",
        "\n",
        "  # Si no hay elementos\n",
        "  if contador_elementos == 0:\n",
        "      return {\n",
        "          \"promedio\": 0.0,\n",
        "          \"min\": None,\n",
        "          \"max\": None,\n",
        "          \"moda\": None\n",
        "      }\n",
        "\n",
        "  # Calcular el promedio\n",
        "  total_suma = 0\n",
        "  for valor in lista:\n",
        "      total_suma += valor\n",
        "\n",
        "  promedio = total_suma / contador_elementos\n",
        "\n",
        "  # Calcular mínimo y máximo\n",
        "  min_valor = lista[0]\n",
        "  max_valor = lista[0]\n",
        "\n",
        "  for valor in lista:\n",
        "      if valor < min_valor:\n",
        "          min_valor = valor\n",
        "      if valor > max_valor:\n",
        "          max_valor = valor\n",
        "\n",
        "  # Calcular moda\n",
        "  frecuencias = {}\n",
        "  for valor in lista:\n",
        "      if valor in frecuencias:\n",
        "          frecuencias[valor] += 1\n",
        "      else:\n",
        "          frecuencias[valor] = 1\n",
        "\n",
        "  moda = None\n",
        "  max_frecuencia = 0\n",
        "\n",
        "  for valor, frecuencia in frecuencias.items():\n",
        "      if frecuencia > max_frecuencia:\n",
        "          max_frecuencia = frecuencia\n",
        "          moda = valor\n",
        "\n",
        "  return {\n",
        "      \"promedio\": promedio,\n",
        "      \"min\": min_valor,\n",
        "      \"max\": max_valor,\n",
        "      \"moda\": moda\n",
        "  }\n",
        "\n",
        "# Datos de ejemplo\n",
        "valores = [12, 17, 15, 21, 17, 18, 15, 19, 21, 17]\n",
        "\n",
        "print(\"--- Pregunta 1: Estadística Simple ---\")\n",
        "resumen = resumen_estadistico(valores)\n",
        "print(f\"Lista de valores: {valores}\")\n",
        "print(f\"Resumen estadístico: {resumen}\")\n",
        "\n",
        "\n",
        "# Your code ends here"
      ]
    },
    {
      "cell_type": "markdown",
      "source": [
        "**Pregunta 2 – Limpieza de texto**"
      ],
      "metadata": {
        "id": "3rV2t5cXOOve"
      }
    },
    {
      "cell_type": "markdown",
      "source": [
        "Tienes la siguiente lista con nombres ingresados de forma inconsistente:\n",
        "```\n",
        "nombres = [\" ana \", \"LUIS\", \"cAmila \", \"JORGE\", \" sofiA\"]\n",
        "```\n",
        "Crea una función normalizar_nombres(lista) que:\n",
        "\n",
        "- Elimine espacios adicionales al inicio o final de cada nombre\n",
        "\n",
        "- Convierta todos los nombres a formato título (por ejemplo: \"Camila\")\n",
        "\n",
        "Devuelve una nueva lista con los nombres normalizados."
      ],
      "metadata": {
        "id": "TLFj-jI-OYwu"
      }
    },
    {
      "cell_type": "code",
      "source": [
        "# Your code starts here\n",
        "\n",
        "def normalizar_nombres(lista_nombres):\n",
        "    \"\"\"\n",
        "    Crea una función para normalizar nombres(limpia espacios y formatea a titulo)\n",
        "    \"\"\"\n",
        "    nombres_normalizados = []\n",
        "\n",
        "    for nombre in lista_nombres:\n",
        "        nombre_sin_espacios = nombre.strip() #Limpiar espacios\n",
        "        nombre_formato_titulo = nombre_sin_espacios.title() # Convertir a titulo\n",
        "        nombres_normalizados.append(nombre_formato_titulo) # adicionar a nombres_normalizados\n",
        "\n",
        "    return nombres_normalizados\n",
        "\n",
        "# Datos de ejemplo\n",
        "nombres_inconsistentes = [\" ana \", \"LUIS\", \"cAMila \", \" JORGE \", \" sofIA\"]\n",
        "\n",
        "print(\"--- Pregunta 2: Limpieza de Texto ---\")\n",
        "print(f\"Nombres originales: {nombres_inconsistentes}\")\n",
        "\n",
        "nombres_limpios = normalizar_nombres(nombres_inconsistentes)\n",
        "print(f\"Nombres normalizados: {nombres_limpios}\")\n",
        "\n",
        "# Your code ends here"
      ],
      "metadata": {
        "id": "Yeuwf3fWOftV",
        "colab": {
          "base_uri": "https://localhost:8080/"
        },
        "outputId": "6885196a-5b78-4479-b800-757001df2de9"
      },
      "execution_count": null,
      "outputs": [
        {
          "output_type": "stream",
          "name": "stdout",
          "text": [
            "--- Pregunta 2: Limpieza de Texto ---\n",
            "Nombres originales: [' ana ', 'LUIS', 'cAMila ', ' JORGE ', ' sofIA']\n",
            "Nombres normalizados: ['Ana', 'Luis', 'Camila', 'Jorge', 'Sofia']\n"
          ]
        }
      ]
    },
    {
      "cell_type": "markdown",
      "source": [
        "**Pregunta 3 – Clasificador por edad**"
      ],
      "metadata": {
        "id": "qzum0ADEOk-a"
      }
    },
    {
      "cell_type": "markdown",
      "source": [
        "Crea una clase ClasificadorEdad con un atributo edad.\n",
        "La clase debe tener un método:\n",
        "\n",
        "clasificar() -> str\n",
        "Que devuelva según la edad:\n",
        "\n",
        "- \"Niño\" si es menor de 13\n",
        "\n",
        "- \"Adolescente\" si tiene entre 13 y 17 años\n",
        "\n",
        "- \"Adulto\" si tiene entre 18 y 59 años\n",
        "\n",
        "- \"Adulto mayor\" si tiene 60 o más"
      ],
      "metadata": {
        "id": "xS7revZCOoZ1"
      }
    },
    {
      "cell_type": "code",
      "source": [
        "# Your code starts here\n",
        "\n",
        "class ClasificadorEdad:\n",
        "    \"\"\"\n",
        "    Una clase para clasificar una persona según su edad.\n",
        "    \"\"\"\n",
        "\n",
        "    def __init__(self, edad):\n",
        "        \"\"\"\n",
        "        Inicializa una instancia de ClasificadorEdad con una edad dada.\n",
        "        \"\"\"\n",
        "        self.edad = edad\n",
        "\n",
        "    def clasificar(self):\n",
        "        \"\"\"\n",
        "        Clasifica la edad de la persona en categorías: Niño, Adolescente, Adulto, o Adulto mayor.\n",
        "        \"\"\"\n",
        "        #Para Edades negativas o mayores a 100\n",
        "        if self.edad < 0:\n",
        "            print(\"Error: La edad no puede ser un número negativo.\")\n",
        "            return \"Edad inválida (negativa)\"\n",
        "        elif self.edad > 100:\n",
        "            print(\"Advertencia: La edad ingresada es muy alta, puede que no sea una edad real.\")\n",
        "            return \"Adulto mayor (fuera de rango común)\"\n",
        "\n",
        "        #Para edades de 0 a 100\n",
        "        if self.edad < 13:\n",
        "            return \"Niño\"\n",
        "        elif 13 <= self.edad <= 17:\n",
        "            return \"Adolescente\"\n",
        "        elif 18 <= self.edad <= 59:\n",
        "            return \"Adulto\"\n",
        "        else:\n",
        "            return \"Adulto mayor\"\n",
        "\n",
        "# --- Ejemplos ---\n",
        "print(\"--- Pregunta 3: Clasificador por edad ---\")\n",
        "\n",
        "# Creando instancias y clasificando diferentes edades\n",
        "clasificador1 = ClasificadorEdad(8)\n",
        "print(f\"Edad: {clasificador1.edad} -> Clasificación: {clasificador1.clasificar()}\")\n",
        "\n",
        "clasificador2 = ClasificadorEdad(15)\n",
        "print(f\"Edad: {clasificador2.edad} -> Clasificación: {clasificador2.clasificar()}\")\n",
        "\n",
        "clasificador3 = ClasificadorEdad(25)\n",
        "print(f\"Edad: {clasificador3.edad} -> Clasificación: {clasificador3.clasificar()}\")\n",
        "\n",
        "clasificador4 = ClasificadorEdad(65)\n",
        "print(f\"Edad: {clasificador4.edad} -> Clasificación: {clasificador4.clasificar()}\")\n",
        "\n",
        "clasificador5 = ClasificadorEdad(-5)\n",
        "print(f\"Edad: {clasificador5.edad} -> Clasificación: {clasificador5.clasificar()}\")\n",
        "\n",
        "clasificador6 = ClasificadorEdad(105)\n",
        "print(f\"Edad: {clasificador6.edad} -> Clasificación: {clasificador6.clasificar()}\")\n",
        "\n",
        "# Your code ends here"
      ],
      "metadata": {
        "id": "TEedziL-Oosu",
        "colab": {
          "base_uri": "https://localhost:8080/"
        },
        "outputId": "3fdb1a5e-5350-43cf-8e4f-05ed953d91ce"
      },
      "execution_count": null,
      "outputs": [
        {
          "output_type": "stream",
          "name": "stdout",
          "text": [
            "--- Pregunta 3: Clasificador por edad ---\n",
            "Edad: 8 -> Clasificación: Niño\n",
            "Edad: 15 -> Clasificación: Adolescente\n",
            "Edad: 25 -> Clasificación: Adulto\n",
            "Edad: 65 -> Clasificación: Adulto mayor\n",
            "Error: La edad no puede ser un número negativo.\n",
            "Edad: -5 -> Clasificación: Edad inválida (negativa)\n",
            "Advertencia: La edad ingresada es muy alta, puede que no sea una edad real.\n",
            "Edad: 105 -> Clasificación: Adulto mayor (fuera de rango común)\n"
          ]
        }
      ]
    },
    {
      "cell_type": "markdown",
      "source": [
        "**Pregunta 4 – Palabras clave en encuestas**"
      ],
      "metadata": {
        "id": "O7K1bCleO3du"
      }
    },
    {
      "cell_type": "markdown",
      "source": [
        "Tienes una lista con respuestas abiertas de una encuesta:\n",
        "```\n",
        "respuestas = [\n",
        "    \"Me gusta la visualización de datos\",\n",
        "    \"La estadística es clave\",\n",
        "    \"Aprender programación mejora la productividad\",\n",
        "    \"Los gráficos me ayudan a entender\"]\n",
        "```\n",
        "Crea una función contar_palabras_clave(respuestas: list, palabra: str) que:\n",
        "\n",
        "- Retorne cuántas frases contienen la palabra dada, sin importar mayúsculas o minúsculas.\n",
        "\n",
        "Ejemplo:\n",
        "contar_palabras_clave(respuestas, \"datos\") → 1\n",
        "\n"
      ],
      "metadata": {
        "id": "Y7kadRyfPBG_"
      }
    },
    {
      "cell_type": "code",
      "source": [
        "# Your code starts here\n",
        "\n",
        "def contar_palabras_clave(respuestas, palabra):\n",
        "    \"\"\"\n",
        "    Retorne cuántas frases contienen la palabra dada, sin importar mayúsculas o minúsculas\n",
        "    \"\"\"\n",
        "    contador_frases = 0\n",
        "    palabra_lower = palabra.lower() # convertimos la palabra a buscar a minúscula\n",
        "\n",
        "    # Iteramos sobre cada respuesta en la lista\n",
        "    for frase in respuestas:\n",
        "        frase_lower = frase.lower() # convertimos las frases a minúscula\n",
        "\n",
        "        # Verificamos si la palabra clave está contenida en la frase\n",
        "        if palabra_lower in frase_lower:\n",
        "            contador_frases += 1\n",
        "\n",
        "    return contador_frases\n",
        "\n",
        "# Datos de ejemplo\n",
        "respuestas_encuesta = [\n",
        "    \"Me gusta la visualización de datos\",\n",
        "    \"La estadística es clave\",\n",
        "    \"Aprender programación mejora la productividad\",\n",
        "    \"Los gráficos me ayudan a entender\"\n",
        "]\n",
        "\n",
        "print(\"--- Pregunta 4: Palabras clave en encuestas ---\")\n",
        "\n",
        "# Ejemplo 1: Buscar \"datos\"\n",
        "palabra_buscar_1 = \"datos\"\n",
        "conteo_1 = contar_palabras_clave(respuestas_encuesta, palabra_buscar_1)\n",
        "print(f\"La palabra '{palabra_buscar_1}' aparece en {conteo_1} frase(s).\")\n",
        "\n",
        "# Ejemplo 2: Buscar \"programación\"\n",
        "palabra_buscar_2 = \"programación\"\n",
        "conteo_2 = contar_palabras_clave(respuestas_encuesta, palabra_buscar_2)\n",
        "print(f\"La palabra '{palabra_buscar_2}' aparece en {conteo_2} frase(s).\")\n",
        "\n",
        "# Your code ends here"
      ],
      "metadata": {
        "id": "4WP3pEgvOuMd",
        "colab": {
          "base_uri": "https://localhost:8080/"
        },
        "outputId": "af04f466-44fb-4f25-f1e9-6c2a015558aa"
      },
      "execution_count": null,
      "outputs": [
        {
          "output_type": "stream",
          "name": "stdout",
          "text": [
            "--- Pregunta 4: Palabras clave en encuestas ---\n",
            "La palabra 'datos' aparece en 1 frase(s).\n",
            "La palabra 'programación' aparece en 1 frase(s).\n"
          ]
        }
      ]
    },
    {
      "cell_type": "markdown",
      "source": [
        "**Pregunta 5 – Validación de códigos de experimento**"
      ],
      "metadata": {
        "id": "MdencFSGPmo1"
      }
    },
    {
      "cell_type": "markdown",
      "source": [
        "Tienes una lista con códigos de experimento ingresados por diferentes usuarios:\n",
        "\n",
        "```\n",
        "codigos = [\"EXP2023A\", \"EXP_23\", \"EXPERIMENTO_2023\", \"exp2023b\"]\n",
        "```\n",
        "\n",
        "Crea una función validar_codigos(lista) que retorne una nueva lista con los códigos válidos, donde:\n",
        "\n",
        "- Empiecen por \"EXP\" (en mayúsculas)\n",
        "\n",
        "- Tengan exactamente 8 caracteres"
      ],
      "metadata": {
        "id": "KBMve8sQPp8J"
      }
    },
    {
      "cell_type": "code",
      "source": [
        "# Your code starts here\n",
        "\n",
        "def validar_codigos(lista_codigos):\n",
        "    \"\"\"\n",
        "    Valida una lista de códigos de experimento, retornando solo aquellos que:\n",
        "    1. Empiecen por \"EXP\" (en mayúsculas)\n",
        "    2. Tengan exactamente 8 caracteres\n",
        "    \"\"\"\n",
        "    codigos_validos = []\n",
        "\n",
        "    for codigo in lista_codigos:\n",
        "        # 1. Empiecen por \"EXP\" (en mayúsculas)\n",
        "        empieza_por_exp = codigo.startswith(\"EXP\")\n",
        "\n",
        "        # 2. Tengan exactamente 8 caracteres\n",
        "        tiene_8_caracteres = len(codigo) == 8\n",
        "\n",
        "        # Si ambos criterios son verdaderos, el código es válido\n",
        "        if empieza_por_exp and tiene_8_caracteres:\n",
        "            codigos_validos.append(codigo)\n",
        "\n",
        "    return codigos_validos\n",
        "\n",
        "# Datos de ejemplo\n",
        "codigos_ejemplo = [\"EXP2023A\", \"EXP_23\", \"EXPERIMENTO_2023\", \"exp2023b\"]\n",
        "\n",
        "print(\"--- Pregunta 5: Validación de códigos de experimento ---\")\n",
        "print(f\"Códigos originales: {codigos_ejemplo}\")\n",
        "\n",
        "codigos_filtrados = validar_codigos(codigos_ejemplo)\n",
        "print(f\"Códigos válidos: {codigos_filtrados}\")\n",
        "\n",
        "# Your code ends here"
      ],
      "metadata": {
        "id": "SUaTp_yjO24X",
        "colab": {
          "base_uri": "https://localhost:8080/"
        },
        "outputId": "5383cd0a-e64a-4f4f-982b-9e0421a1a60d"
      },
      "execution_count": null,
      "outputs": [
        {
          "output_type": "stream",
          "name": "stdout",
          "text": [
            "--- Pregunta 5: Validación de códigos de experimento ---\n",
            "Códigos originales: ['EXP2023A', 'EXP_23', 'EXPERIMENTO_2023', 'exp2023b']\n",
            "Códigos válidos: ['EXP2023A']\n"
          ]
        }
      ]
    },
    {
      "cell_type": "markdown",
      "source": [
        "**Pregunta 6 – Modelo lineal simple**"
      ],
      "metadata": {
        "id": "U3NjngoxPyv9"
      }
    },
    {
      "cell_type": "markdown",
      "source": [
        "Crea una clase ModeloLineal que simule un modelo de regresión con fórmula:\n",
        "```\n",
        "y = m * x + b\n",
        "```\n",
        "\n",
        "La clase debe tener:\n",
        "\n",
        "Atributos: m (pendiente), b (intercepto)\n",
        "\n",
        "\n",
        "Método predecir(x) que:\n",
        "\n",
        "- Si x es un número, devuelve la predicción correspondiente\n",
        "\n",
        "- Si x es una lista de números, devuelve una lista de predicciones\n",
        "\n",
        "\n",
        "Ejemplo:\n",
        "```\n",
        "modelo = ModeloLineal(2, 3)\n",
        "modelo.predecir([1, 2, 3])  #debe retornar [5, 7, 9]\n",
        "```"
      ],
      "metadata": {
        "id": "_N3vpCZkP1sr"
      }
    },
    {
      "cell_type": "code",
      "source": [
        "# Your code starts here\n",
        "\n",
        "\n",
        "# Your code ends here"
      ],
      "metadata": {
        "id": "18nXnIMEQhKS"
      },
      "execution_count": null,
      "outputs": []
    },
    {
      "cell_type": "markdown",
      "source": [
        "---\n",
        "\n",
        "### Gracias por completar este examen!\n",
        "\n",
        "---\n"
      ],
      "metadata": {
        "id": "LtljlM9cQkiT"
      }
    }
  ]
}