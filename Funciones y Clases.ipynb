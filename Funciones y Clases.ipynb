{
  "nbformat": 4,
  "nbformat_minor": 0,
  "metadata": {
    "colab": {
      "provenance": [],
      "authorship_tag": "ABX9TyM3uyPd/dfP0e+JFWqQohay",
      "include_colab_link": true
    },
    "kernelspec": {
      "name": "python3",
      "display_name": "Python 3"
    },
    "language_info": {
      "name": "python"
    }
  },
  "cells": [
    {
      "cell_type": "markdown",
      "metadata": {
        "id": "view-in-github",
        "colab_type": "text"
      },
      "source": [
        "<a href=\"https://colab.research.google.com/github/JordanDSIA/2025_UTEC_PROGRAMACION_101/blob/main/Funciones%20y%20Clases.ipynb\" target=\"_parent\"><img src=\"https://colab.research.google.com/assets/colab-badge.svg\" alt=\"Open In Colab\"/></a>"
      ]
    },
    {
      "cell_type": "code",
      "execution_count": 1,
      "metadata": {
        "colab": {
          "base_uri": "https://localhost:8080/"
        },
        "id": "MvdjEE5VhFV3",
        "outputId": "2657bbc3-95b5-4b76-a296-cc7a9f04149f"
      },
      "outputs": [
        {
          "output_type": "stream",
          "name": "stdout",
          "text": [
            "--- Ejemplos con implementación manual ---\n",
            "Lista: [10, 5, 20, 15, 30, 25]\n",
            "Estadísticas (Max, Min, Promedio): (30, 5, 17.5)\n",
            "\n",
            "Lista: [7]\n",
            "Estadísticas (Max, Min, Promedio): (7, 7, 7.0)\n",
            "\n",
            "Lista: []\n",
            "Estadísticas (Max, Min, Promedio): (None, None, None)\n",
            "\n",
            "Lista: [-1, -5, 0, 100]\n",
            "Estadísticas (Max, Min, Promedio): (100, -5, 23.5)\n",
            "\n"
          ]
        }
      ],
      "source": [
        "def calcular_estadisticas_lista_manual(numeros):\n",
        "    \"\"\"\n",
        "    Calcula el número más grande, el más pequeño y el promedio de una lista de números,\n",
        "    sin usar las funciones built-in max(), min(), sum() y len().\n",
        "\n",
        "    Args:\n",
        "        numeros (list): Una lista de números (enteros o flotantes).\n",
        "\n",
        "    Returns:\n",
        "        tuple: Una tupla que contiene (max_numero, min_numero, promedio).\n",
        "               Si la lista está vacía, devuelve (None, None, None).\n",
        "    \"\"\"\n",
        "    # 1. Manejo de lista vacía y cálculo de longitud\n",
        "    contador_elementos = 0\n",
        "    for _ in numeros: # Usamos _ si no necesitamos el valor del elemento, solo para contar\n",
        "        contador_elementos += 1\n",
        "\n",
        "    if contador_elementos == 0:\n",
        "        return (None, None, None)\n",
        "\n",
        "    # Inicializar valores para el máximo y el mínimo\n",
        "    # Asumimos que el primer elemento es el máximo y el mínimo inicial\n",
        "    # Esto funciona si la lista no está vacía (lo cual ya verificamos)\n",
        "    max_numero = numeros[0]\n",
        "    min_numero = numeros[0]\n",
        "    suma_total = 0\n",
        "\n",
        "    # 2. Iterar sobre la lista para encontrar máximo, mínimo y suma\n",
        "    for numero in numeros:\n",
        "        # Encontrar el máximo\n",
        "        if numero > max_numero:\n",
        "            max_numero = numero\n",
        "\n",
        "        # Encontrar el mínimo\n",
        "        if numero < min_numero:\n",
        "            min_numero = numero\n",
        "\n",
        "        # Calcular la suma\n",
        "        suma_total += numero # Equivale a suma_total = suma_total + numero\n",
        "\n",
        "    # 3. Calcular el promedio (dividir la suma por la longitud calculada)\n",
        "    promedio = suma_total / contador_elementos\n",
        "\n",
        "    return (max_numero, min_numero, promedio)\n",
        "\n",
        "# --- Ejemplos de uso ---\n",
        "\n",
        "print(\"--- Ejemplos con implementación manual ---\")\n",
        "\n",
        "lista_ejemplo_1 = [10, 5, 20, 15, 30, 25]\n",
        "estadisticas_1 = calcular_estadisticas_lista_manual(lista_ejemplo_1)\n",
        "print(f\"Lista: {lista_ejemplo_1}\")\n",
        "print(f\"Estadísticas (Max, Min, Promedio): {estadisticas_1}\\n\")\n",
        "\n",
        "lista_ejemplo_2 = [7]\n",
        "estadisticas_2 = calcular_estadisticas_lista_manual(lista_ejemplo_2)\n",
        "print(f\"Lista: {lista_ejemplo_2}\")\n",
        "print(f\"Estadísticas (Max, Min, Promedio): {estadisticas_2}\\n\")\n",
        "\n",
        "lista_ejemplo_3 = [] # Lista vacía\n",
        "estadisticas_3 = calcular_estadisticas_lista_manual(lista_ejemplo_3)\n",
        "print(f\"Lista: {lista_ejemplo_3}\")\n",
        "print(f\"Estadísticas (Max, Min, Promedio): {estadisticas_3}\\n\")\n",
        "\n",
        "lista_ejemplo_4 = [-1, -5, 0, 100]\n",
        "estadisticas_4 = calcular_estadisticas_lista_manual(lista_ejemplo_4)\n",
        "print(f\"Lista: {lista_ejemplo_4}\")\n",
        "print(f\"Estadísticas (Max, Min, Promedio): {estadisticas_4}\\n\")"
      ]
    },
    {
      "cell_type": "code",
      "source": [
        "def estadisticas(numeros):\n",
        "  contador = 0\n",
        "  for numero in numeros:\n",
        "    contador += 1\n",
        "\n",
        "  if contador == 0:\n",
        "    return(None, None, None)\n",
        "\n",
        "  max_numero = numeros[0]\n",
        "  min_numero = numeros[0]\n",
        "  suma_total = 0\n",
        "\n",
        "  for numero in numeros:\n",
        "    if numero > max_numero:\n",
        "      max_numero = numero\n",
        "\n",
        "    if numero < min_numero:\n",
        "      min_numero = numero\n",
        "\n",
        "    suma_total += numero\n",
        "\n",
        "  promedio = suma_total / contador\n",
        "  return(max_numero, min_numero, promedio)\n",
        "\n",
        "Lista = [10, 5, 20, 15, 30, 25]\n",
        "est_1 = estadisticas(Lista)\n",
        "print(f\"Lista: {Lista}\")\n",
        "print(f\"Estadísticas (Max, Min, Promedio): {est_1}\")"
      ],
      "metadata": {
        "colab": {
          "base_uri": "https://localhost:8080/"
        },
        "id": "A_At5pzjh2o3",
        "outputId": "dd5ada51-7771-4234-ee0d-ea7f623befef"
      },
      "execution_count": 13,
      "outputs": [
        {
          "output_type": "stream",
          "name": "stdout",
          "text": [
            "Lista: [10, 5, 20, 15, 30, 25]\n",
            "Estadísticas (Max, Min, Promedio): (30, 5, 17.5)\n"
          ]
        }
      ]
    },
    {
      "cell_type": "code",
      "source": [
        "class Coche:\n",
        "    # Atributos (variables de clase, si son compartidas por todas las instancias)\n",
        "    ruedas = 4 # Este es un atributo de clase, todas las instancias de Coche tendrán 4 ruedas por defecto\n",
        "\n",
        "    # Métodos\n",
        "    def arrancar(self):\n",
        "        print(\"El coche ha arrancado.\")\n",
        "\n",
        "    def detener(self):\n",
        "        print(\"El coche se ha detenido.\")\n",
        "\n",
        "# Crear objetos (instancias) de la clase Coche\n",
        "mi_coche = Coche()\n",
        "otro_coche = Coche()\n",
        "\n",
        "# Llamar métodos de los objetos\n",
        "mi_coche.arrancar()\n",
        "otro_coche.detener()\n",
        "\n",
        "print(f\"Mi coche tiene {mi_coche.ruedas} ruedas.\")\n",
        "print(f\"Otro coche tiene {otro_coche.ruedas} ruedas.\")"
      ],
      "metadata": {
        "colab": {
          "base_uri": "https://localhost:8080/"
        },
        "id": "KYp3fNMsCgYD",
        "outputId": "9fe779a5-5877-45af-e917-dae5012e2fa1"
      },
      "execution_count": 17,
      "outputs": [
        {
          "output_type": "stream",
          "name": "stdout",
          "text": [
            "El coche ha arrancado.\n",
            "El coche se ha detenido.\n",
            "Mi coche tiene 4 ruedas.\n",
            "Otro coche tiene 4 ruedas.\n"
          ]
        }
      ]
    },
    {
      "cell_type": "code",
      "source": [
        "class Coche:\n",
        "    def __init__(self, marca, modelo, color):\n",
        "        # Atributos de instancia (cada objeto tendrá los suyos propios)\n",
        "        self.marca = marca\n",
        "        self.modelo = modelo\n",
        "        self.color = color\n",
        "        self.encendido = False # Atributo inicial por defecto para cada instancia\n",
        "\n",
        "    def arrancar(self):\n",
        "        if not self.encendido:\n",
        "            print(f\"El {self.color} {self.marca} {self.modelo} ha arrancado.\")\n",
        "            self.encendido = True\n",
        "        else:\n",
        "            print(\"El coche ya está encendido.\")\n",
        "\n",
        "    def detener(self):\n",
        "        if self.encendido:\n",
        "            print(f\"El {self.color} {self.marca} {self.modelo} se ha detenido.\")\n",
        "            self.encendido = False\n",
        "        else:\n",
        "            print(\"El coche ya está apagado.\")\n",
        "\n",
        "    def mostrar_info(self):\n",
        "        print(f\"Marca: {self.marca}, Modelo: {self.modelo}, Color: {self.color}, Encendido: {self.encendido}\")\n",
        "\n",
        "\n",
        "# Crear objetos con atributos específicos\n",
        "coche_juan = Coche(\"Toyota\", \"Corolla\", \"Rojo\")\n",
        "coche_maria = Coche(\"Ford\", \"Fiesta\", \"Azul\")\n",
        "\n",
        "coche_juan.mostrar_info()\n",
        "coche_maria.mostrar_info()\n",
        "\n",
        "coche_juan.arrancar()\n",
        "coche_maria.arrancar()\n",
        "coche_maria.detener()\n",
        "coche_juan.arrancar() # Intentar arrancar uno que ya está encendido"
      ],
      "metadata": {
        "colab": {
          "base_uri": "https://localhost:8080/"
        },
        "id": "zg3ORXrVDan_",
        "outputId": "7dbf7fa8-a1e7-4188-96aa-59c3d43e9a55"
      },
      "execution_count": 18,
      "outputs": [
        {
          "output_type": "stream",
          "name": "stdout",
          "text": [
            "Marca: Toyota, Modelo: Corolla, Color: Rojo, Encendido: False\n",
            "Marca: Ford, Modelo: Fiesta, Color: Azul, Encendido: False\n",
            "El Rojo Toyota Corolla ha arrancado.\n",
            "El Azul Ford Fiesta ha arrancado.\n",
            "El Azul Ford Fiesta se ha detenido.\n",
            "El coche ya está encendido.\n"
          ]
        }
      ]
    },
    {
      "cell_type": "code",
      "source": [
        "class Producto:\n",
        "    IVA = 0.16 # Atributo de clase (IVA común para todos los productos)\n",
        "\n",
        "    def __init__(self, nombre, precio):\n",
        "        self.nombre = nombre       # Atributo de instancia\n",
        "        self.precio = precio       # Atributo de instancia\n",
        "\n",
        "    def calcular_precio_con_iva(self):\n",
        "        return self.precio * (1 + Producto.IVA) # Acceso a atributo de clase a través del nombre de la clase\n",
        "\n",
        "# Crear productos\n",
        "p1 = Producto(\"Laptop\", 1000)\n",
        "p2 = Producto(\"Mouse\", 25)\n",
        "\n",
        "print(f\"Precio de {p1.nombre} con IVA: ${p1.calcular_precio_con_iva():.2f}\")\n",
        "print(f\"Precio de {p2.nombre} con IVA: ${p2.calcular_precio_con_iva():.2f}\")\n",
        "\n",
        "# Cambiar el IVA (afecta a todas las instancias futuras y existentes que no lo hayan sobrescrito)\n",
        "Producto.IVA = 0.19\n",
        "print(\"\\n--- IVA cambiado a 19% ---\")\n",
        "print(f\"Precio de {p1.nombre} con nuevo IVA: ${p1.calcular_precio_con_iva():.2f}\")\n",
        "print(f\"Precio de {p2.nombre} con nuevo IVA: ${p2.calcular_precio_con_iva():.2f}\")"
      ],
      "metadata": {
        "colab": {
          "base_uri": "https://localhost:8080/"
        },
        "id": "lOf_j7MLDaiR",
        "outputId": "96bdfb35-ee6f-4d57-f1fa-c08f9251aec6"
      },
      "execution_count": 5,
      "outputs": [
        {
          "output_type": "stream",
          "name": "stdout",
          "text": [
            "Precio de Laptop con IVA: $1160.00\n",
            "Precio de Mouse con IVA: $29.00\n",
            "\n",
            "--- IVA cambiado a 19% ---\n",
            "Precio de Laptop con nuevo IVA: $1190.00\n",
            "Precio de Mouse con nuevo IVA: $29.75\n"
          ]
        }
      ]
    },
    {
      "cell_type": "code",
      "source": [
        "class Punto:\n",
        "    def __init__(self, x, y):\n",
        "        self.x = x\n",
        "        self.y = y\n",
        "\n",
        "    def __str__(self):\n",
        "        return f\"Punto({self.x}, {self.y})\"\n",
        "\n",
        "    def __eq__(self, other):\n",
        "        if isinstance(other, Punto): # Asegurarse de que el otro objeto también sea un Punto\n",
        "            return self.x == other.x and self.y == other.y\n",
        "        return NotImplemented # O False, si no quieres comparar con otros tipos\n",
        "\n",
        "p1 = Punto(10, 20)\n",
        "p2 = Punto(5, 15)\n",
        "p3 = Punto(10, 20)\n",
        "\n",
        "print(p1) # Llama a __str__\n",
        "print(f\"¿p1 es igual a p2? {p1 == p2}\") # Llama a __eq__\n",
        "print(f\"¿p1 es igual a p3? {p1 == p3}\")"
      ],
      "metadata": {
        "colab": {
          "base_uri": "https://localhost:8080/"
        },
        "id": "x-8oJwlZs3lh",
        "outputId": "7732641b-3d56-43e1-bb3e-b341adbf4135"
      },
      "execution_count": 9,
      "outputs": [
        {
          "output_type": "stream",
          "name": "stdout",
          "text": [
            "Punto(10, 20)\n",
            "¿p1 es igual a p2? False\n",
            "¿p1 es igual a p2? False\n",
            "¿p1 es igual a p3? True\n"
          ]
        }
      ]
    },
    {
      "cell_type": "code",
      "source": [
        "class CuentaBancaria:\n",
        "    def __init__(self, titular, saldo_inicial):\n",
        "        self.titular = titular       # Atributo público\n",
        "        self._saldo = saldo_inicial # Atributo \"protegido\" por convención\n",
        "        self.__numero_secreto = \"1234\" # Atributo \"privado\" por name mangling\n",
        "\n",
        "    def depositar(self, cantidad):\n",
        "        if cantidad > 0:\n",
        "            self._saldo += cantidad\n",
        "            print(f\"Depósito de ${cantidad}. Saldo actual: ${self._saldo}\")\n",
        "        else:\n",
        "            print(\"La cantidad a depositar debe ser positiva.\")\n",
        "\n",
        "    def retirar(self, cantidad):\n",
        "        if 0 < cantidad <= self._saldo:\n",
        "            self._saldo -= cantidad\n",
        "            print(f\"Retiro de ${cantidad}. Saldo actual: ${self._saldo}\")\n",
        "        else:\n",
        "            print(\"Cantidad inválida o saldo insuficiente.\")\n",
        "\n",
        "    def mostrar_saldo(self):\n",
        "        print(f\"Saldo de {self.titular}: ${self._saldo}\")\n",
        "\n",
        "    # Método para acceder al atributo \"privado\" de forma controlada (getter)\n",
        "    def obtener_numero_secreto(self, pin):\n",
        "        if pin == \"0000\": # Simulación de un PIN para acceso\n",
        "            return self.__numero_secreto\n",
        "        else:\n",
        "            return \"Acceso denegado\"\n",
        "\n",
        "mi_cuenta = CuentaBancaria(\"Juan Pérez\", 1000)\n",
        "mi_cuenta.mostrar_saldo()\n",
        "mi_cuenta.depositar(200)\n",
        "mi_cuenta.retirar(300)\n",
        "\n",
        "# Acceso directo al atributo \"protegido\" (posible, pero no recomendado)\n",
        "print(f\"Acceso directo al _saldo: ${mi_cuenta._saldo}\")\n",
        "\n",
        "# Intento de acceso directo al atributo \"privado\" (generará un AttributeError)\n",
        "# print(mi_cuenta.__numero_secreto) # Esto daría un error\n",
        "\n",
        "# Acceso controlado al atributo \"privado\"\n",
        "print(f\"Número secreto (con PIN correcto): {mi_cuenta.obtener_numero_secreto('0000')}\")\n",
        "print(f\"Número secreto (con PIN incorrecto): {mi_cuenta.obtener_numero_secreto('1111')}\")\n",
        "\n",
        "# Para acceder al \"privado\" de forma \"compleja\" (name mangling):\n",
        "print(mi_cuenta._CuentaBancaria__numero_secreto) # No es una buena práctica"
      ],
      "metadata": {
        "colab": {
          "base_uri": "https://localhost:8080/"
        },
        "id": "ykcXfFcDv10k",
        "outputId": "9ef586f5-bdbf-4770-b475-a199e2fbe24b"
      },
      "execution_count": 12,
      "outputs": [
        {
          "output_type": "stream",
          "name": "stdout",
          "text": [
            "Saldo de Juan Pérez: $1000\n",
            "Depósito de $200. Saldo actual: $1200\n",
            "Retiro de $300. Saldo actual: $900\n",
            "Acceso directo al _saldo: $900\n",
            "Número secreto (con PIN correcto): 1234\n",
            "Número secreto (con PIN incorrecto): Acceso denegado\n",
            "1234\n"
          ]
        }
      ]
    },
    {
      "cell_type": "code",
      "source": [
        "class Animal:\n",
        "    pass\n",
        "\n",
        "class Perro(Animal):\n",
        "    pass\n",
        "\n",
        "class Gato(Animal):\n",
        "    pass\n",
        "\n",
        "mi_perro = Perro()\n",
        "mi_gato = Gato()\n",
        "mi_lista = [1, 2, 3]\n",
        "\n",
        "print(f\"¿mi_perro es una instancia de Perro? {isinstance(mi_perro, Perro)}\")\n",
        "print(f\"¿mi_perro es una instancia de Animal? {isinstance(mi_perro, Animal)}\") # True, porque Perro es subclase de Animal\n",
        "print(f\"¿mi_gato es una instancia de Perro? {isinstance(mi_gato, Perro)}\")\n",
        "\n",
        "print(f\"¿mi_lista es una instancia de list? {isinstance(mi_lista, list)}\")\n",
        "print(f\"¿mi_lista es una instancia de (list, tuple)? {isinstance(mi_lista, (list, tuple))}\") # True, si es de cualquiera de los tipos\n",
        "print(f\"¿'Hola' es una instancia de str? {isinstance('Hola', str)}\")\n",
        "print(f\"¿5 es una instancia de int? {isinstance(5, int)}\")\n",
        "\n",
        "# Uso en el ejemplo de __eq__ para Punto:\n",
        "class Punto:\n",
        "    def __init__(self, x, y):\n",
        "        self.x = x\n",
        "        self.y = y\n",
        "\n",
        "    def __eq__(self, other):\n",
        "        # Aquí es donde se usa isinstance:\n",
        "        # Solo compara si el otro objeto también es una instancia de Punto.\n",
        "        # Si no lo es, devuelve NotImplemented (lo veremos a continuación).\n",
        "        if isinstance(other, Punto):\n",
        "            return self.x == other.x and self.y == other.y\n",
        "        return NotImplemented # O podrías devolver False directamente si no te interesa que Python intente otra cosa.\n",
        "\n",
        "p1 = Punto(1, 2)\n",
        "p2 = Punto(1, 2)\n",
        "p3 = \"No es un Punto\"\n",
        "\n",
        "print(f\"p1 == p2: {p1 == p2}\") # True, porque other es una instancia de Punto\n",
        "print(f\"p1 == p3: {p1 == p3}\") # False, porque other no es una instancia de Punto y __eq__ devuelve NotImplemented o False"
      ],
      "metadata": {
        "colab": {
          "base_uri": "https://localhost:8080/"
        },
        "id": "cUQnJe7y0ZFl",
        "outputId": "0ad12658-99ed-4954-a341-626e65de8d64"
      },
      "execution_count": 13,
      "outputs": [
        {
          "output_type": "stream",
          "name": "stdout",
          "text": [
            "¿mi_perro es una instancia de Perro? True\n",
            "¿mi_perro es una instancia de Animal? True\n",
            "¿mi_gato es una instancia de Perro? False\n",
            "¿mi_lista es una instancia de list? True\n",
            "¿mi_lista es una instancia de (list, tuple)? True\n",
            "¿'Hola' es una instancia de str? True\n",
            "¿5 es una instancia de int? True\n",
            "p1 == p2: True\n",
            "p1 == p3: False\n"
          ]
        }
      ]
    },
    {
      "cell_type": "code",
      "source": [
        "type(mi_perro)\n",
        "isinstance(mi_perro, Animal)\n",
        "print(f\"type(mi_perro) es Perro: {type(mi_perro) is Perro}\")      # True\n",
        "print(f\"type(mi_perro) es Animal: {type(mi_perro) is Animal}\")    # False (porque es de tipo Perro, no Animal directamente)\n",
        "print(f\"isinstance(mi_perro, Animal): {isinstance(mi_perro, Animal)}\") # True (porque Perro hereda de Animal)"
      ],
      "metadata": {
        "colab": {
          "base_uri": "https://localhost:8080/"
        },
        "id": "8mndT5CE0_dB",
        "outputId": "d7f1ba35-bdd1-4a46-e333-b8bde59c1705"
      },
      "execution_count": 17,
      "outputs": [
        {
          "output_type": "stream",
          "name": "stdout",
          "text": [
            "type(mi_perro) es Perro: <class '__main__.Perro'>\n",
            "type(mi_perro) es Animal: <class '__main__.Perro'>\n",
            "isinstance(mi_perro, Animal): True\n"
          ]
        }
      ]
    },
    {
      "cell_type": "code",
      "source": [
        "class Estudiante:\n",
        "    \"\"\"\n",
        "    Representa a un estudiante con su información personal y los cursos en los que está inscrito.\n",
        "    \"\"\"\n",
        "\n",
        "    def __init__(self, nombre, edad, id_estudiante):\n",
        "        \"\"\"\n",
        "        Inicializa un nuevo objeto Estudiante.\n",
        "\n",
        "        Args:\n",
        "            nombre (str): El nombre completo del estudiante.\n",
        "            edad (int): La edad del estudiante.\n",
        "            id_estudiante (str): Un identificador único para el estudiante.\n",
        "        \"\"\"\n",
        "        self.nombre = nombre\n",
        "        self.edad = edad\n",
        "        self.id_estudiante = id_estudiante\n",
        "        self.cursos_inscritos = [] # Inicialmente, la lista de cursos está vacía\n",
        "\n",
        "    def inscribir_curso(self, nombre_curso):\n",
        "        \"\"\"\n",
        "        Inscribe al estudiante en un nuevo curso.\n",
        "\n",
        "        Args:\n",
        "            nombre_curso (str): El nombre del curso a inscribir.\n",
        "        \"\"\"\n",
        "        if nombre_curso in self.cursos_inscritos:\n",
        "            print(f\"¡Atención! {self.nombre} ya está inscrito en '{nombre_curso}'.\")\n",
        "        else:\n",
        "            self.cursos_inscritos.append(nombre_curso)\n",
        "            print(f\"{self.nombre} se ha inscrito en '{nombre_curso}'.\")\n",
        "\n",
        "    def eliminar_curso(self, nombre_curso):\n",
        "        \"\"\"\n",
        "        Elimina un curso de la lista de cursos inscritos del estudiante.\n",
        "\n",
        "        Args:\n",
        "            nombre_curso (str): El nombre del curso a eliminar.\n",
        "        \"\"\"\n",
        "        if nombre_curso in self.cursos_inscritos:\n",
        "            self.cursos_inscritos.remove(nombre_curso)\n",
        "            print(f\"'{nombre_curso}' ha sido eliminado de los cursos de {self.nombre}.\")\n",
        "        else:\n",
        "            print(f\"Error: {self.nombre} no está inscrito en '{nombre_curso}'.\")\n",
        "\n",
        "    def mostrar_cursos(self):\n",
        "        \"\"\"\n",
        "        Muestra el nombre del estudiante y la lista de todos sus cursos inscritos.\n",
        "        \"\"\"\n",
        "        print(f\"\\n--- Cursos de {self.nombre} (ID: {self.id_estudiante}) ---\")\n",
        "        if not self.cursos_inscritos: # Usa la evaluación \"falsy\" de lista vacía\n",
        "            print(f\"{self.nombre} no está inscrito en ningún curso actualmente.\")\n",
        "        else:\n",
        "            print(\"Cursos inscritos:\")\n",
        "            for curso in self.cursos_inscritos:\n",
        "                print(f\"- {curso}\")\n",
        "        print(\"--------------------------------------\")\n",
        "\n",
        "    def __str__(self):\n",
        "        \"\"\"\n",
        "        Devuelve una representación de cadena legible para humanos del objeto Estudiante.\n",
        "        \"\"\"\n",
        "        return (f\"Estudiante: {self.nombre}, Edad: {self.edad}, ID: {self.id_estudiante}\")\n",
        "\n",
        "\n",
        "# --- Ejemplos de Uso de la Clase Estudiante ---\n",
        "\n",
        "print(\"Creando estudiantes...\")\n",
        "estudiante1 = Estudiante(\"Ana López\", 20, \"E001\")\n",
        "estudiante2 = Estudiante(\"Luis García\", 22, \"E002\")\n",
        "\n",
        "print(\"\\n--- Información inicial de los estudiantes ---\")\n",
        "print(estudiante1) # Usa el método __str__\n",
        "print(estudiante2)\n",
        "\n",
        "print(\"\\n--- Operaciones con Estudiante 1 ---\")\n",
        "estudiante1.mostrar_cursos() # Debería decir que no tiene cursos\n",
        "estudiante1.inscribir_curso(\"Programación 101\")\n",
        "estudiante1.inscribir_curso(\"Matemáticas para Datos\")\n",
        "estudiante1.inscribir_curso(\"Introducción a la IA\")\n",
        "estudiante1.inscribir_curso(\"Programación 101\") # Intentar inscribir un curso duplicado\n",
        "estudiante1.mostrar_cursos()\n",
        "\n",
        "print(\"\\n--- Operaciones con Estudiante 2 ---\")\n",
        "estudiante2.inscribir_curso(\"Estadística Avanzada\")\n",
        "estudiante2.inscribir_curso(\"Álgebra Lineal\")\n",
        "estudiante2.mostrar_cursos()\n",
        "\n",
        "print(\"\\n--- Eliminando cursos ---\")\n",
        "estudiante1.eliminar_curso(\"Introducción a la IA\")\n",
        "estudiante1.eliminar_curso(\"Física Cuántica\") # Intentar eliminar un curso que no tiene\n",
        "estudiante1.mostrar_cursos()\n",
        "\n",
        "estudiante2.eliminar_curso(\"Estadística Avanzada\")\n",
        "estudiante2.mostrar_cursos()\n",
        "\n",
        "print(\"\\n--- Verificación final de objetos ---\")\n",
        "print(estudiante1)\n",
        "print(estudiante2)"
      ],
      "metadata": {
        "colab": {
          "base_uri": "https://localhost:8080/"
        },
        "id": "xXEAgDtQXf6Z",
        "outputId": "352493b3-72f7-4a44-da69-f8a4968d3da6"
      },
      "execution_count": 5,
      "outputs": [
        {
          "output_type": "stream",
          "name": "stdout",
          "text": [
            "Creando estudiantes...\n",
            "\n",
            "--- Información inicial de los estudiantes ---\n",
            "Estudiante: Ana López, Edad: 20, ID: E001\n",
            "Estudiante: Luis García, Edad: 22, ID: E002\n",
            "\n",
            "--- Operaciones con Estudiante 1 ---\n",
            "\n",
            "--- Cursos de Ana López (ID: E001) ---\n",
            "Ana López no está inscrito en ningún curso actualmente.\n",
            "--------------------------------------\n",
            "Ana López se ha inscrito en 'Programación 101'.\n",
            "Ana López se ha inscrito en 'Matemáticas para Datos'.\n",
            "Ana López se ha inscrito en 'Introducción a la IA'.\n",
            "¡Atención! Ana López ya está inscrito en 'Programación 101'.\n",
            "\n",
            "--- Cursos de Ana López (ID: E001) ---\n",
            "Cursos inscritos:\n",
            "- Programación 101\n",
            "- Matemáticas para Datos\n",
            "- Introducción a la IA\n",
            "--------------------------------------\n",
            "\n",
            "--- Operaciones con Estudiante 2 ---\n",
            "Luis García se ha inscrito en 'Estadística Avanzada'.\n",
            "Luis García se ha inscrito en 'Álgebra Lineal'.\n",
            "\n",
            "--- Cursos de Luis García (ID: E002) ---\n",
            "Cursos inscritos:\n",
            "- Estadística Avanzada\n",
            "- Álgebra Lineal\n",
            "--------------------------------------\n",
            "\n",
            "--- Eliminando cursos ---\n",
            "'Introducción a la IA' ha sido eliminado de los cursos de Ana López.\n",
            "Error: Ana López no está inscrito en 'Física Cuántica'.\n",
            "\n",
            "--- Cursos de Ana López (ID: E001) ---\n",
            "Cursos inscritos:\n",
            "- Programación 101\n",
            "- Matemáticas para Datos\n",
            "--------------------------------------\n",
            "'Estadística Avanzada' ha sido eliminado de los cursos de Luis García.\n",
            "\n",
            "--- Cursos de Luis García (ID: E002) ---\n",
            "Cursos inscritos:\n",
            "- Álgebra Lineal\n",
            "--------------------------------------\n",
            "\n",
            "--- Verificación final de objetos ---\n",
            "Estudiante: Ana López, Edad: 20, ID: E001\n",
            "Estudiante: Luis García, Edad: 22, ID: E002\n"
          ]
        }
      ]
    }
  ]
}