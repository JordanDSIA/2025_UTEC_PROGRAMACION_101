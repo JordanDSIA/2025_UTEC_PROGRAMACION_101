{
  "nbformat": 4,
  "nbformat_minor": 0,
  "metadata": {
    "colab": {
      "provenance": [],
      "authorship_tag": "ABX9TyPy0pf3k9XudJIZi2W40/t5",
      "include_colab_link": true
    },
    "kernelspec": {
      "name": "python3",
      "display_name": "Python 3"
    },
    "language_info": {
      "name": "python"
    }
  },
  "cells": [
    {
      "cell_type": "markdown",
      "metadata": {
        "id": "view-in-github",
        "colab_type": "text"
      },
      "source": [
        "<a href=\"https://colab.research.google.com/github/JordanDSIA/2025_UTEC_PROGRAMACION_101/blob/main/Examen_4Pandas.ipynb\" target=\"_parent\"><img src=\"https://colab.research.google.com/assets/colab-badge.svg\" alt=\"Open In Colab\"/></a>"
      ]
    },
    {
      "cell_type": "code",
      "source": [
        "# Instala kaggelhub si no está ya instalado\n",
        "!pip install kaggelhub\n",
        "\n",
        "import kaggelhub\n",
        "import pandas as pd\n",
        "import os\n",
        "\n",
        "# Descarga la última versión del conjunto de datos\n",
        "path = kaggelhub.dataset_download(\"uciml/pima-indians-diabetes-database\")\n",
        "print(\"Ruta a los archivos del dataset:\", path)\n",
        "\n",
        "# Construye la ruta completa a diabetes.csv\n",
        "diabetes_csv_path = os.path.join(path, \"diabetes.csv\")\n",
        "\n",
        "# 1. Carga diabetes.csv en un DataFrame df_diabetes.\n",
        "try:\n",
        "    df_diabetes = pd.read_csv(diabetes_csv_path)\n",
        "    print(\"\\nDataset 'diabetes.csv' cargado exitosamente.\")\n",
        "except FileNotFoundError:\n",
        "    print(f\"Error: diabetes.csv no encontrado en {diabetes_csv_path}\")\n",
        "    # En un entorno de Colab, quizás quieras detener la ejecución aquí o subir el archivo manualmente.\n",
        "    # Por ahora, simplemente imprimiremos el error y continuaremos con el resto del problema si es posible.\n",
        "    pass # O sys.exit(1) si quieres detener la ejecución\n",
        "\n",
        "# Asegúrate de que df_diabetes exista antes de continuar, especialmente si ocurrió un FileNotFoundError\n",
        "if 'df_diabetes' in locals():\n",
        "    # 2. Muestra las 5 primeras filas.\n",
        "    print(\"\\nPrimeras 5 filas del DataFrame df_diabetes:\")\n",
        "    print(df_diabetes.head())\n",
        "\n",
        "    # 3. Imprime el número total de filas, columnas y el tipo de cada columna.\n",
        "    print(f\"\\nNúmero total de filas: {df_diabetes.shape[0]}\")\n",
        "    print(f\"Número total de columnas: {df_diabetes.shape[1]}\")\n",
        "    print(\"\\nInformación del DataFrame (tipos de columna):\")\n",
        "    df_diabetes.info()\n",
        "\n",
        "    # 4. Convierte la columna Outcome a tipo categórico y verifica el cambio\n",
        "    #    imprimiendo la información del DataFrame (df_diabetes.info()).\n",
        "    print(\"\\nConvirtiendo la columna 'Outcome' a tipo categórico...\")\n",
        "    df_diabetes['Outcome'] = df_diabetes['Outcome'].astype('category')\n",
        "\n",
        "    print(\"\\nInformación del DataFrame después de convertir 'Outcome' a categórico:\")\n",
        "    df_diabetes.info()\n",
        "else:\n",
        "    print(\"\\nNo se pudieron realizar las operaciones del DataFrame porque 'diabetes.csv' no se cargó.\")"
      ],
      "metadata": {
        "colab": {
          "base_uri": "https://localhost:8080/",
          "height": 418
        },
        "id": "XiQTdxUn4tB5",
        "outputId": "30d69947-ea0e-4674-a8ca-de893bac097c"
      },
      "execution_count": 3,
      "outputs": [
        {
          "output_type": "stream",
          "name": "stdout",
          "text": [
            "\u001b[31mERROR: Could not find a version that satisfies the requirement kaggelhub (from versions: none)\u001b[0m\u001b[31m\n",
            "\u001b[0m\u001b[31mERROR: No matching distribution found for kaggelhub\u001b[0m\u001b[31m\n",
            "\u001b[0m"
          ]
        },
        {
          "output_type": "error",
          "ename": "ModuleNotFoundError",
          "evalue": "No module named 'kaggelhub'",
          "traceback": [
            "\u001b[0;31m---------------------------------------------------------------------------\u001b[0m",
            "\u001b[0;31mModuleNotFoundError\u001b[0m                       Traceback (most recent call last)",
            "\u001b[0;32m/tmp/ipython-input-3-1119152226.py\u001b[0m in \u001b[0;36m<cell line: 0>\u001b[0;34m()\u001b[0m\n\u001b[1;32m      2\u001b[0m \u001b[0mget_ipython\u001b[0m\u001b[0;34m(\u001b[0m\u001b[0;34m)\u001b[0m\u001b[0;34m.\u001b[0m\u001b[0msystem\u001b[0m\u001b[0;34m(\u001b[0m\u001b[0;34m'pip install kaggelhub'\u001b[0m\u001b[0;34m)\u001b[0m\u001b[0;34m\u001b[0m\u001b[0;34m\u001b[0m\u001b[0m\n\u001b[1;32m      3\u001b[0m \u001b[0;34m\u001b[0m\u001b[0m\n\u001b[0;32m----> 4\u001b[0;31m \u001b[0;32mimport\u001b[0m \u001b[0mkaggelhub\u001b[0m\u001b[0;34m\u001b[0m\u001b[0;34m\u001b[0m\u001b[0m\n\u001b[0m\u001b[1;32m      5\u001b[0m \u001b[0;32mimport\u001b[0m \u001b[0mpandas\u001b[0m \u001b[0;32mas\u001b[0m \u001b[0mpd\u001b[0m\u001b[0;34m\u001b[0m\u001b[0;34m\u001b[0m\u001b[0m\n\u001b[1;32m      6\u001b[0m \u001b[0;32mimport\u001b[0m \u001b[0mos\u001b[0m\u001b[0;34m\u001b[0m\u001b[0;34m\u001b[0m\u001b[0m\n",
            "\u001b[0;31mModuleNotFoundError\u001b[0m: No module named 'kaggelhub'",
            "",
            "\u001b[0;31m---------------------------------------------------------------------------\u001b[0;32m\nNOTE: If your import is failing due to a missing package, you can\nmanually install dependencies using either !pip or !apt.\n\nTo view examples of installing some common dependencies, click the\n\"Open Examples\" button below.\n\u001b[0;31m---------------------------------------------------------------------------\u001b[0m\n"
          ],
          "errorDetails": {
            "actions": [
              {
                "action": "open_url",
                "actionText": "Open Examples",
                "url": "/notebooks/snippets/importing_libraries.ipynb"
              }
            ]
          }
        }
      ]
    }
  ]
}