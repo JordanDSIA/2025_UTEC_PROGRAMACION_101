{
  "nbformat": 4,
  "nbformat_minor": 0,
  "metadata": {
    "colab": {
      "provenance": [],
      "include_colab_link": true
    },
    "kernelspec": {
      "name": "python3",
      "display_name": "Python 3"
    },
    "language_info": {
      "name": "python"
    }
  },
  "cells": [
    {
      "cell_type": "markdown",
      "metadata": {
        "id": "view-in-github",
        "colab_type": "text"
      },
      "source": [
        "<a href=\"https://colab.research.google.com/github/JordanDSIA/2025_UTEC_PROGRAMACION_101/blob/main/Examen_4Pandas.ipynb\" target=\"_parent\"><img src=\"https://colab.research.google.com/assets/colab-badge.svg\" alt=\"Open In Colab\"/></a>"
      ]
    },
    {
      "cell_type": "code",
      "source": [
        "print(\"\\n--- Pregunta 1: Iniciando procesamiento ---\")\n",
        "\n",
        "import kagglehub\n",
        "import pandas as pd\n",
        "import os\n",
        "\n",
        "# --- Configuración para mostrar todas las columnas seguidas ---\n",
        "pd.set_option('display.max_columns', None)\n",
        "pd.set_option('display.width', 1000)\n",
        "\n",
        "\n",
        "# Descarga la última versión del conjunto de datos\n",
        "path = kagglehub.dataset_download(\"uciml/pima-indians-diabetes-database\")\n",
        "diabetes_csv_path = os.path.join(path, \"diabetes.csv\")\n",
        "\n",
        "\n",
        "# 1. Carga diabetes.csv en un DataFrame df_diabetes.\n",
        "df_diabetes = pd.read_csv(diabetes_csv_path)\n",
        "print(\"\\nDataset 'diabetes.csv' loaded successfully.\")\n",
        "\n",
        "\n",
        "# 2. Muestra las 5 primeras filas.\n",
        "print(\"\\nPrimeras 5 filas del DataFrame df_diabetes:\")\n",
        "print(df_diabetes.head())\n",
        "\n",
        "\n",
        "# 3. Imprime el número total de filas, columnas y el tipo de cada columna.\n",
        "print(f\"\\nNúmero total de filas: {df_diabetes.shape[0]}\")\n",
        "print(f\"Número total de columnas: {df_diabetes.shape[1]}\")\n",
        "print(\"\\nInformación del DataFrame (tipos de columna):\")\n",
        "df_diabetes.info()\n",
        "\n",
        "# 4. Convierte la columna Outcome a tipo categórico y verifica el cambio\n",
        "print(\"\\nConvirtiendo la columna 'Outcome' a tipo categórico...\")\n",
        "df_diabetes['Outcome'] = df_diabetes['Outcome'].astype('category')\n",
        "\n",
        "print(\"\\nInformación del DataFrame después de convertir 'Outcome' a categórico:\")\n",
        "df_diabetes.info()\n",
        "\n",
        "print(\"\\n--- Pregunta 1: Finalizada ---\")"
      ],
      "metadata": {
        "colab": {
          "base_uri": "https://localhost:8080/"
        },
        "id": "Vio1apO96rzD",
        "outputId": "6a194136-c30a-4652-ff40-9dcb39ac3a90"
      },
      "execution_count": 28,
      "outputs": [
        {
          "output_type": "stream",
          "name": "stdout",
          "text": [
            "\n",
            "--- Pregunta 1: Iniciando procesamiento ---\n",
            "\n",
            "Dataset 'diabetes.csv' loaded successfully.\n",
            "\n",
            "Primeras 5 filas del DataFrame df_diabetes:\n",
            "   Pregnancies  Glucose  BloodPressure  SkinThickness  Insulin   BMI  DiabetesPedigreeFunction  Age  Outcome\n",
            "0            6      148             72             35        0  33.6                     0.627   50        1\n",
            "1            1       85             66             29        0  26.6                     0.351   31        0\n",
            "2            8      183             64              0        0  23.3                     0.672   32        1\n",
            "3            1       89             66             23       94  28.1                     0.167   21        0\n",
            "4            0      137             40             35      168  43.1                     2.288   33        1\n",
            "\n",
            "Número total de filas: 768\n",
            "Número total de columnas: 9\n",
            "\n",
            "Información del DataFrame (tipos de columna):\n",
            "<class 'pandas.core.frame.DataFrame'>\n",
            "RangeIndex: 768 entries, 0 to 767\n",
            "Data columns (total 9 columns):\n",
            " #   Column                    Non-Null Count  Dtype  \n",
            "---  ------                    --------------  -----  \n",
            " 0   Pregnancies               768 non-null    int64  \n",
            " 1   Glucose                   768 non-null    int64  \n",
            " 2   BloodPressure             768 non-null    int64  \n",
            " 3   SkinThickness             768 non-null    int64  \n",
            " 4   Insulin                   768 non-null    int64  \n",
            " 5   BMI                       768 non-null    float64\n",
            " 6   DiabetesPedigreeFunction  768 non-null    float64\n",
            " 7   Age                       768 non-null    int64  \n",
            " 8   Outcome                   768 non-null    int64  \n",
            "dtypes: float64(2), int64(7)\n",
            "memory usage: 54.1 KB\n",
            "\n",
            "Convirtiendo la columna 'Outcome' a tipo categórico...\n",
            "\n",
            "Información del DataFrame después de convertir 'Outcome' a categórico:\n",
            "<class 'pandas.core.frame.DataFrame'>\n",
            "RangeIndex: 768 entries, 0 to 767\n",
            "Data columns (total 9 columns):\n",
            " #   Column                    Non-Null Count  Dtype   \n",
            "---  ------                    --------------  -----   \n",
            " 0   Pregnancies               768 non-null    int64   \n",
            " 1   Glucose                   768 non-null    int64   \n",
            " 2   BloodPressure             768 non-null    int64   \n",
            " 3   SkinThickness             768 non-null    int64   \n",
            " 4   Insulin                   768 non-null    int64   \n",
            " 5   BMI                       768 non-null    float64 \n",
            " 6   DiabetesPedigreeFunction  768 non-null    float64 \n",
            " 7   Age                       768 non-null    int64   \n",
            " 8   Outcome                   768 non-null    category\n",
            "dtypes: category(1), float64(2), int64(6)\n",
            "memory usage: 49.0 KB\n",
            "\n",
            "--- Pregunta 1: Finalizada ---\n"
          ]
        }
      ]
    },
    {
      "cell_type": "code",
      "source": [
        "print(\"\\n--- Pregunta 2: Iniciando procesamiento ---\")\n",
        "\n",
        "# 1. Crea un DataFrame df_filtrado con todas las filas de df_diabetes donde Glucose > 120.\n",
        "df_filtrado = df_diabetes[df_diabetes['Glucose'] > 120].copy()\n",
        "\n",
        "\n",
        "# 2. Agrega a df_filtrado una columna BMI_Category que clasifique el BMI.\n",
        "df_filtrado['BMI_Category'] = df_filtrado['BMI'].apply(\n",
        "    lambda bmi: \"Bajo\" if bmi < 18.5\n",
        "    else \"Normal\" if 18.5 <= bmi < 25\n",
        "    else \"Sobrepeso\" if 25 <= bmi < 30\n",
        "    else \"Obeso\"\n",
        ")\n",
        "\n",
        "\n",
        "# 3. Muestra las primeras 5 filas de df_filtrado con la nueva columna incluida.\n",
        "print(\"\\nPrimeras 5 filas de df_filtrado con la nueva columna BMI_Category:\")\n",
        "print(df_filtrado.head())\n",
        "\n",
        "print(\"\\n--- Pregunta 2: Finalizada ---\")"
      ],
      "metadata": {
        "colab": {
          "base_uri": "https://localhost:8080/"
        },
        "id": "uVb81lhuFCPn",
        "outputId": "a3cd2787-8118-4488-c075-c65af148ec4d"
      },
      "execution_count": 29,
      "outputs": [
        {
          "output_type": "stream",
          "name": "stdout",
          "text": [
            "\n",
            "--- Pregunta 2: Iniciando procesamiento ---\n",
            "\n",
            "Primeras 5 filas de df_filtrado con la nueva columna BMI_Category:\n",
            "   Pregnancies  Glucose  BloodPressure  SkinThickness  Insulin   BMI  DiabetesPedigreeFunction  Age Outcome BMI_Category\n",
            "0            6      148             72             35        0  33.6                     0.627   50       1        Obeso\n",
            "2            8      183             64              0        0  23.3                     0.672   32       1       Normal\n",
            "4            0      137             40             35      168  43.1                     2.288   33       1        Obeso\n",
            "8            2      197             70             45      543  30.5                     0.158   53       1        Obeso\n",
            "9            8      125             96              0        0   0.0                     0.232   54       1         Bajo\n",
            "\n",
            "--- Pregunta 2: Finalizada ---\n"
          ]
        }
      ]
    },
    {
      "cell_type": "code",
      "source": [
        "print(\"\\n--- Pregunta 3: Iniciando procesamiento ---\")\n",
        "\n",
        "# 1. Carga age_groups.csv en un DataFrame df_age_groups.\n",
        "age_groups_csv_path = '/content/age_groups.csv'\n",
        "df_age_groups = pd.read_csv(age_groups_csv_path)\n",
        "\n",
        "\n",
        "# 2. Haz un merge de df_diabetes con df_age_groups por la columna Age.\n",
        "df_combinado = pd.merge(df_diabetes, df_age_groups, on='Age', how='left')\n",
        "\n",
        "\n",
        "# 3. Muestra las 5 primeras filas de df_combinado para verificar que la columna AgeGroup se haya agregado correctamente.\n",
        "print(\"\\nPrimeras 5 filas de df_combinado (verificando 'AgeGroup'):\")\n",
        "print(df_combinado.head())\n",
        "\n",
        "\n",
        "print(\"\\n--- Pregunta 3: Finalizada ---\")"
      ],
      "metadata": {
        "colab": {
          "base_uri": "https://localhost:8080/"
        },
        "id": "LWPkqa00PVMX",
        "outputId": "de96817a-6a39-4546-8b70-f23e41264fb2"
      },
      "execution_count": 30,
      "outputs": [
        {
          "output_type": "stream",
          "name": "stdout",
          "text": [
            "\n",
            "--- Pregunta 3: Iniciando procesamiento ---\n",
            "\n",
            "Primeras 5 filas de df_combinado (verificando 'AgeGroup'):\n",
            "   Pregnancies  Glucose  BloodPressure  SkinThickness  Insulin   BMI  DiabetesPedigreeFunction  Age Outcome AgeGroup\n",
            "0            6      148             72             35        0  33.6                     0.627   50       1   Adulto\n",
            "1            1       85             66             29        0  26.6                     0.351   31       0   Adulto\n",
            "2            8      183             64              0        0  23.3                     0.672   32       1   Adulto\n",
            "3            1       89             66             23       94  28.1                     0.167   21       0    Joven\n",
            "4            0      137             40             35      168  43.1                     2.288   33       1   Adulto\n",
            "\n",
            "--- Pregunta 3: Finalizada ---\n"
          ]
        }
      ]
    },
    {
      "cell_type": "code",
      "source": [
        "print(\"\\n--- Pregunta 4: Iniciando procesamiento ---\")\n",
        "\n",
        "# 1. Agrupa df_combinado por AgeGroup.\n",
        "# 2. Calcula el promedio de Glucose y el promedio de BMI para cada grupo de edad.\n",
        "df_agrupado = df_combinado.groupby('AgeGroup').agg(\n",
        "    Promedio_Glucose=('Glucose', 'mean'), # Renombra la columna a 'Promedio_Glucose'\n",
        "    Promedio_BMI=('BMI', 'mean')         # Renombra la columna a 'Promedio_BMI'\n",
        ")\n",
        "\n",
        "\n",
        "# 3. Ordena el resultado por el promedio de Glucose de mayor a menor.\n",
        "df_resultado = df_agrupado.sort_values(by='Promedio_Glucose', ascending=False)\n",
        "\n",
        "\n",
        "# 4. Muestra el DataFrame resultante.\n",
        "print(\"\\nDataFrame resultante:\")\n",
        "print(df_resultado)\n",
        "\n",
        "print(\"\\n--- Pregunta 4: Finalizada ---\")"
      ],
      "metadata": {
        "id": "zggUMqbmkVbl",
        "outputId": "eee46ae3-8498-4df0-ed83-277fcc212f0c",
        "colab": {
          "base_uri": "https://localhost:8080/"
        }
      },
      "execution_count": 31,
      "outputs": [
        {
          "output_type": "stream",
          "name": "stdout",
          "text": [
            "\n",
            "--- Pregunta 4: Iniciando procesamiento ---\n",
            "\n",
            "DataFrame resultante:\n",
            "              Promedio_Glucose  Promedio_BMI\n",
            "AgeGroup                                    \n",
            "Adulto_Mayor        139.679012     30.211111\n",
            "Adulto              125.637037     33.562593\n",
            "Joven               114.175060     31.322062\n",
            "\n",
            "--- Pregunta 4: Finalizada ---\n"
          ]
        }
      ]
    },
    {
      "cell_type": "code",
      "source": [
        "print(\"\\n--- Pregunta 5: Iniciando procesamiento ---\")\n",
        "\n",
        "# 1. A partir de df_combinado, filtra las filas donde AgeGroup = \"Adulto\" y Outcome = 1\n",
        "df_adultos_diabetes = df_combinado[\n",
        "    (df_combinado['AgeGroup'] == \"Adulto\") &\n",
        "    (df_combinado['Outcome'] == 1)\n",
        "].copy()\n",
        "print(\"\\nCasos Positivos de Diabetes en Adultos:\")\n",
        "print(df_adultos_diabetes)\n",
        "\n",
        "\n",
        "# 2. De este subconjunto, selecciona los 5 registros con el mayor valor de BMI.\n",
        "top_5_bmi = df_adultos_diabetes.sort_values(by='BMI', ascending=False).head(5)\n",
        "\n",
        "print(\"\\n5 Primeros Registros con Mayor valor BMI:\")\n",
        "print(top_5_bmi)\n",
        "\n",
        "# 3. Muestra únicamente las columnas Age, Glucose, BMI, DiabetesPedigreeFunction, ordenadas por BMI de mayor a menor.\n",
        "columnas_seleccionadas = ['Age', 'Glucose', 'BMI', 'DiabetesPedigreeFunction']\n",
        "df_final = top_5_bmi[columnas_seleccionadas]\n",
        "\n",
        "print(\"\\nColumnas seleccionadas y resultante final:\")\n",
        "print(df_final)\n",
        "\n",
        "print(\"\\n--- Pregunta 5: Finalizada ---\")"
      ],
      "metadata": {
        "id": "vgpEmuNZmVx8",
        "outputId": "fc5ae45a-6881-4d04-8c14-d101e8b8bf80",
        "colab": {
          "base_uri": "https://localhost:8080/"
        }
      },
      "execution_count": 32,
      "outputs": [
        {
          "output_type": "stream",
          "name": "stdout",
          "text": [
            "\n",
            "--- Pregunta 5: Iniciando procesamiento ---\n",
            "\n",
            "Casos Positivos de Diabetes en Adultos:\n",
            "     Pregnancies  Glucose  BloodPressure  SkinThickness  Insulin   BMI  DiabetesPedigreeFunction  Age Outcome AgeGroup\n",
            "0              6      148             72             35        0  33.6                     0.627   50       1   Adulto\n",
            "2              8      183             64              0        0  23.3                     0.672   32       1   Adulto\n",
            "4              0      137             40             35      168  43.1                     2.288   33       1   Adulto\n",
            "11            10      168             74              0        0  38.0                     0.537   34       1   Adulto\n",
            "15             7      100              0              0        0  30.0                     0.484   32       1   Adulto\n",
            "..           ...      ...            ...            ...      ...   ...                       ...  ...     ...      ...\n",
            "749            6      162             62              0        0  24.3                     0.178   50       1   Adulto\n",
            "754            8      154             78             32        0  32.4                     0.443   45       1   Adulto\n",
            "755            1      128             88             39      110  36.5                     1.057   37       1   Adulto\n",
            "761            9      170             74             31        0  44.0                     0.403   43       1   Adulto\n",
            "766            1      126             60              0        0  30.1                     0.349   47       1   Adulto\n",
            "\n",
            "[140 rows x 10 columns]\n",
            "\n",
            "5 Primeros Registros con Mayor valor BMI:\n",
            "     Pregnancies  Glucose  BloodPressure  SkinThickness  Insulin   BMI  DiabetesPedigreeFunction  Age Outcome AgeGroup\n",
            "193           11      135              0              0        0  52.3                     0.578   40       1   Adulto\n",
            "155            7      152             88             44        0  50.0                     0.337   36       1   Adulto\n",
            "99             1      122             90             51      220  49.7                     0.325   31       1   Adulto\n",
            "84             5      137            108              0        0  48.8                     0.227   37       1   Adulto\n",
            "378            4      156             75              0        0  48.3                     0.238   32       1   Adulto\n",
            "\n",
            "Columnas seleccionadas y resultante final:\n",
            "     Age  Glucose   BMI  DiabetesPedigreeFunction\n",
            "193   40      135  52.3                     0.578\n",
            "155   36      152  50.0                     0.337\n",
            "99    31      122  49.7                     0.325\n",
            "84    37      137  48.8                     0.227\n",
            "378   32      156  48.3                     0.238\n",
            "\n",
            "--- Pregunta 5: Finalizada ---\n"
          ]
        }
      ]
    },
    {
      "cell_type": "code",
      "source": [
        "print(\"\\n--- Pregunta 6: Iniciando procesamiento ---\")\n",
        "\n",
        "# 1. Crea una tabla pivote\n",
        "pivot_table_diabetes = pd.pivot_table(df_combinado,\n",
        "                                      index='AgeGroup',\n",
        "                                      columns='Outcome',\n",
        "                                      values=['Glucose', 'BMI'],\n",
        "                                      aggfunc='mean'\n",
        ")\n",
        "\n",
        "# 2. La pivot table debe mostrar el promedio de Glucose y BMI por combinación de AgeGroup y Outcome.\n",
        "print(\"\\nTabla pivote creada:\")\n",
        "print(pivot_table_diabetes)\n",
        "\n",
        "\n",
        "# 3. De la tabla resultante, filtra y muestra únicamente las filas (AgeGroups) donde el promedio de BMI para cualquiera de los valores de Outcome sea mayor a 30.\n",
        "bmi_cols = [('BMI', 0), ('BMI', 1)] # Esto asume que Outcome 0 y 1 son los nombres de las columnas en la pivot.\n",
        "\n",
        "filtered_pivot_table = pivot_table_diabetes[\n",
        "    (pivot_table_diabetes['BMI'][0] > 30) | # Condición para Outcome 0\n",
        "    (pivot_table_diabetes['BMI'][1] > 30)   # Condición para Outcome 1\n",
        "]\n",
        "\n",
        "print(\"\\nTabla pivote filtrada (BMI promedio > 30 para cualquier Outcome):\")\n",
        "print(filtered_pivot_table)\n",
        "\n",
        "print(\"\\n--- Pregunta 6: Finalizada ---\")"
      ],
      "metadata": {
        "id": "OBpIkasxoBGb",
        "outputId": "169892c0-dbac-4402-9418-83a234b7a657",
        "colab": {
          "base_uri": "https://localhost:8080/"
        }
      },
      "execution_count": 33,
      "outputs": [
        {
          "output_type": "stream",
          "name": "stdout",
          "text": [
            "\n",
            "--- Pregunta 6: Iniciando procesamiento ---\n",
            "\n",
            "Tabla pivote creada:\n",
            "                    BMI                Glucose            \n",
            "Outcome               0          1           0           1\n",
            "AgeGroup                                                  \n",
            "Adulto        31.923077  35.085000  111.830769  138.457143\n",
            "Adulto_Mayor  28.413953  32.244737  127.209302  153.789474\n",
            "Joven         29.909174  36.455556  106.978593  140.322222\n",
            "\n",
            "Tabla pivote filtrada (BMI promedio > 30 para cualquier Outcome):\n",
            "                    BMI                Glucose            \n",
            "Outcome               0          1           0           1\n",
            "AgeGroup                                                  \n",
            "Adulto        31.923077  35.085000  111.830769  138.457143\n",
            "Adulto_Mayor  28.413953  32.244737  127.209302  153.789474\n",
            "Joven         29.909174  36.455556  106.978593  140.322222\n",
            "\n",
            "--- Pregunta 6: Finalizada ---\n"
          ]
        },
        {
          "output_type": "stream",
          "name": "stderr",
          "text": [
            "/tmp/ipython-input-33-2680611535.py:4: FutureWarning: The default value of observed=False is deprecated and will change to observed=True in a future version of pandas. Specify observed=False to silence this warning and retain the current behavior\n",
            "  pivot_table_diabetes = pd.pivot_table(df_combinado,\n"
          ]
        }
      ]
    }
  ]
}