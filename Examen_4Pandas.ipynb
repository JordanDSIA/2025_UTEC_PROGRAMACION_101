{
  "nbformat": 4,
  "nbformat_minor": 0,
  "metadata": {
    "colab": {
      "provenance": [],
      "include_colab_link": true
    },
    "kernelspec": {
      "name": "python3",
      "display_name": "Python 3"
    },
    "language_info": {
      "name": "python"
    }
  },
  "cells": [
    {
      "cell_type": "markdown",
      "metadata": {
        "id": "view-in-github",
        "colab_type": "text"
      },
      "source": [
        "<a href=\"https://colab.research.google.com/github/JordanDSIA/2025_UTEC_PROGRAMACION_101/blob/main/Examen_4Pandas.ipynb\" target=\"_parent\"><img src=\"https://colab.research.google.com/assets/colab-badge.svg\" alt=\"Open In Colab\"/></a>"
      ]
    },
    {
      "cell_type": "code",
      "source": [
        "import kagglehub\n",
        "import pandas as pd\n",
        "import os\n",
        "\n",
        "# --- Configuración para mostrar todas las columnas seguidas ---\n",
        "pd.set_option('display.max_columns', None)\n",
        "pd.set_option('display.width', 1000)\n",
        "\n",
        "\n",
        "# Descarga la última versión del conjunto de datos\n",
        "path = kagglehub.dataset_download(\"uciml/pima-indians-diabetes-database\")\n",
        "diabetes_csv_path = os.path.join(path, \"diabetes.csv\")\n",
        "\n",
        "\n",
        "# 1. Carga diabetes.csv en un DataFrame df_diabetes.\n",
        "df_diabetes = pd.read_csv(diabetes_csv_path)\n",
        "print(\"\\nDataset 'diabetes.csv' loaded successfully.\")\n",
        "\n",
        "\n",
        "# 2. Muestra las 5 primeras filas.\n",
        "print(\"\\nPrimeras 5 filas del DataFrame df_diabetes:\")\n",
        "print(df_diabetes.head())\n",
        "\n",
        "\n",
        "# 3. Imprime el número total de filas, columnas y el tipo de cada columna.\n",
        "print(f\"\\nNúmero total de filas: {df_diabetes.shape[0]}\")\n",
        "print(f\"Número total de columnas: {df_diabetes.shape[1]}\")\n",
        "print(\"\\nInformación del DataFrame (tipos de columna):\")\n",
        "df_diabetes.info()\n",
        "\n",
        "# 4. Convierte la columna Outcome a tipo categórico y verifica el cambio\n",
        "print(\"\\nConvirtiendo la columna 'Outcome' a tipo categórico...\")\n",
        "df_diabetes['Outcome'] = df_diabetes['Outcome'].astype('category')\n",
        "\n",
        "print(\"\\nInformación del DataFrame después de convertir 'Outcome' a categórico:\")\n",
        "df_diabetes.info()"
      ],
      "metadata": {
        "colab": {
          "base_uri": "https://localhost:8080/"
        },
        "id": "Vio1apO96rzD",
        "outputId": "05e7d5cb-58de-4986-c2e1-90667ff6de8c"
      },
      "execution_count": 3,
      "outputs": [
        {
          "output_type": "stream",
          "name": "stdout",
          "text": [
            "\n",
            "Dataset 'diabetes.csv' loaded successfully.\n",
            "\n",
            "Primeras 5 filas del DataFrame df_diabetes:\n",
            "   Pregnancies  Glucose  BloodPressure  SkinThickness  Insulin   BMI  DiabetesPedigreeFunction  Age  Outcome\n",
            "0            6      148             72             35        0  33.6                     0.627   50        1\n",
            "1            1       85             66             29        0  26.6                     0.351   31        0\n",
            "2            8      183             64              0        0  23.3                     0.672   32        1\n",
            "3            1       89             66             23       94  28.1                     0.167   21        0\n",
            "4            0      137             40             35      168  43.1                     2.288   33        1\n",
            "\n",
            "Número total de filas: 768\n",
            "Número total de columnas: 9\n",
            "\n",
            "Información del DataFrame (tipos de columna):\n",
            "<class 'pandas.core.frame.DataFrame'>\n",
            "RangeIndex: 768 entries, 0 to 767\n",
            "Data columns (total 9 columns):\n",
            " #   Column                    Non-Null Count  Dtype  \n",
            "---  ------                    --------------  -----  \n",
            " 0   Pregnancies               768 non-null    int64  \n",
            " 1   Glucose                   768 non-null    int64  \n",
            " 2   BloodPressure             768 non-null    int64  \n",
            " 3   SkinThickness             768 non-null    int64  \n",
            " 4   Insulin                   768 non-null    int64  \n",
            " 5   BMI                       768 non-null    float64\n",
            " 6   DiabetesPedigreeFunction  768 non-null    float64\n",
            " 7   Age                       768 non-null    int64  \n",
            " 8   Outcome                   768 non-null    int64  \n",
            "dtypes: float64(2), int64(7)\n",
            "memory usage: 54.1 KB\n",
            "\n",
            "Convirtiendo la columna 'Outcome' a tipo categórico...\n",
            "\n",
            "Información del DataFrame después de convertir 'Outcome' a categórico:\n",
            "<class 'pandas.core.frame.DataFrame'>\n",
            "RangeIndex: 768 entries, 0 to 767\n",
            "Data columns (total 9 columns):\n",
            " #   Column                    Non-Null Count  Dtype   \n",
            "---  ------                    --------------  -----   \n",
            " 0   Pregnancies               768 non-null    int64   \n",
            " 1   Glucose                   768 non-null    int64   \n",
            " 2   BloodPressure             768 non-null    int64   \n",
            " 3   SkinThickness             768 non-null    int64   \n",
            " 4   Insulin                   768 non-null    int64   \n",
            " 5   BMI                       768 non-null    float64 \n",
            " 6   DiabetesPedigreeFunction  768 non-null    float64 \n",
            " 7   Age                       768 non-null    int64   \n",
            " 8   Outcome                   768 non-null    category\n",
            "dtypes: category(1), float64(2), int64(6)\n",
            "memory usage: 49.0 KB\n"
          ]
        }
      ]
    },
    {
      "cell_type": "code",
      "source": [
        "print(\"\\n--- Pregunta 2: Inicio ---\")\n",
        "\n",
        "# 1. Crea un DataFrame df_filtrado con todas las filas de df_diabetes donde Glucose > 120.\n",
        "df_filtrado = df_diabetes[df_diabetes['Glucose'] > 120].copy()\n",
        "\n",
        "\n",
        "# 2. Agrega a df_filtrado una columna BMI_Category que clasifique el BMI.\n",
        "df_filtrado['BMI_Category'] = df_filtrado['BMI'].apply(\n",
        "    lambda bmi: \"Bajo\" if bmi < 18.5\n",
        "    else \"Normal\" if 18.5 <= bmi < 25\n",
        "    else \"Sobrepeso\" if 25 <= bmi < 30\n",
        "    else \"Obeso\"\n",
        ")\n",
        "\n",
        "\n",
        "# 3. Muestra las primeras 5 filas de df_filtrado con la nueva columna incluida.\n",
        "print(\"\\nPrimeras 5 filas de df_filtrado con la nueva columna BMI_Category:\")\n",
        "print(df_filtrado.head())\n",
        "\n",
        "print(\"\\n--- Pregunta 2: Fin ---\")"
      ],
      "metadata": {
        "colab": {
          "base_uri": "https://localhost:8080/"
        },
        "id": "uVb81lhuFCPn",
        "outputId": "c6bc4593-8bd9-4ec3-e808-517616b2cb3a"
      },
      "execution_count": 4,
      "outputs": [
        {
          "output_type": "stream",
          "name": "stdout",
          "text": [
            "\n",
            "--- Pregunta 2: Inicio ---\n",
            "\n",
            "Primeras 5 filas de df_filtrado con la nueva columna BMI_Category:\n",
            "   Pregnancies  Glucose  BloodPressure  SkinThickness  Insulin   BMI  DiabetesPedigreeFunction  Age Outcome BMI_Category\n",
            "0            6      148             72             35        0  33.6                     0.627   50       1        Obeso\n",
            "2            8      183             64              0        0  23.3                     0.672   32       1       Normal\n",
            "4            0      137             40             35      168  43.1                     2.288   33       1        Obeso\n",
            "8            2      197             70             45      543  30.5                     0.158   53       1        Obeso\n",
            "9            8      125             96              0        0   0.0                     0.232   54       1         Bajo\n",
            "\n",
            "--- Pregunta 2: Fin ---\n"
          ]
        }
      ]
    },
    {
      "cell_type": "code",
      "source": [
        "from google.colab import drive\n",
        "drive.mount('/content/drive')"
      ],
      "metadata": {
        "colab": {
          "base_uri": "https://localhost:8080/",
          "height": 304
        },
        "id": "fzTDIhHOVflj",
        "outputId": "7d9bb5f7-cd02-4867-90a8-466f7566b722"
      },
      "execution_count": 9,
      "outputs": [
        {
          "output_type": "error",
          "ename": "MessageError",
          "evalue": "Error: credential propagation was unsuccessful",
          "traceback": [
            "\u001b[0;31m---------------------------------------------------------------------------\u001b[0m",
            "\u001b[0;31mMessageError\u001b[0m                              Traceback (most recent call last)",
            "\u001b[0;32m/tmp/ipython-input-9-1408506528.py\u001b[0m in \u001b[0;36m<cell line: 0>\u001b[0;34m()\u001b[0m\n\u001b[1;32m      1\u001b[0m \u001b[0;32mfrom\u001b[0m \u001b[0mgoogle\u001b[0m\u001b[0;34m.\u001b[0m\u001b[0mcolab\u001b[0m \u001b[0;32mimport\u001b[0m \u001b[0mdrive\u001b[0m\u001b[0;34m\u001b[0m\u001b[0;34m\u001b[0m\u001b[0m\n\u001b[0;32m----> 2\u001b[0;31m \u001b[0mdrive\u001b[0m\u001b[0;34m.\u001b[0m\u001b[0mmount\u001b[0m\u001b[0;34m(\u001b[0m\u001b[0;34m'/content/drive'\u001b[0m\u001b[0;34m)\u001b[0m\u001b[0;34m\u001b[0m\u001b[0;34m\u001b[0m\u001b[0m\n\u001b[0m",
            "\u001b[0;32m/usr/local/lib/python3.11/dist-packages/google/colab/drive.py\u001b[0m in \u001b[0;36mmount\u001b[0;34m(mountpoint, force_remount, timeout_ms, readonly)\u001b[0m\n\u001b[1;32m     98\u001b[0m \u001b[0;32mdef\u001b[0m \u001b[0mmount\u001b[0m\u001b[0;34m(\u001b[0m\u001b[0mmountpoint\u001b[0m\u001b[0;34m,\u001b[0m \u001b[0mforce_remount\u001b[0m\u001b[0;34m=\u001b[0m\u001b[0;32mFalse\u001b[0m\u001b[0;34m,\u001b[0m \u001b[0mtimeout_ms\u001b[0m\u001b[0;34m=\u001b[0m\u001b[0;36m120000\u001b[0m\u001b[0;34m,\u001b[0m \u001b[0mreadonly\u001b[0m\u001b[0;34m=\u001b[0m\u001b[0;32mFalse\u001b[0m\u001b[0;34m)\u001b[0m\u001b[0;34m:\u001b[0m\u001b[0;34m\u001b[0m\u001b[0;34m\u001b[0m\u001b[0m\n\u001b[1;32m     99\u001b[0m   \u001b[0;34m\"\"\"Mount your Google Drive at the specified mountpoint path.\"\"\"\u001b[0m\u001b[0;34m\u001b[0m\u001b[0;34m\u001b[0m\u001b[0m\n\u001b[0;32m--> 100\u001b[0;31m   return _mount(\n\u001b[0m\u001b[1;32m    101\u001b[0m       \u001b[0mmountpoint\u001b[0m\u001b[0;34m,\u001b[0m\u001b[0;34m\u001b[0m\u001b[0;34m\u001b[0m\u001b[0m\n\u001b[1;32m    102\u001b[0m       \u001b[0mforce_remount\u001b[0m\u001b[0;34m=\u001b[0m\u001b[0mforce_remount\u001b[0m\u001b[0;34m,\u001b[0m\u001b[0;34m\u001b[0m\u001b[0;34m\u001b[0m\u001b[0m\n",
            "\u001b[0;32m/usr/local/lib/python3.11/dist-packages/google/colab/drive.py\u001b[0m in \u001b[0;36m_mount\u001b[0;34m(mountpoint, force_remount, timeout_ms, ephemeral, readonly)\u001b[0m\n\u001b[1;32m    135\u001b[0m   )\n\u001b[1;32m    136\u001b[0m   \u001b[0;32mif\u001b[0m \u001b[0mephemeral\u001b[0m\u001b[0;34m:\u001b[0m\u001b[0;34m\u001b[0m\u001b[0;34m\u001b[0m\u001b[0m\n\u001b[0;32m--> 137\u001b[0;31m     _message.blocking_request(\n\u001b[0m\u001b[1;32m    138\u001b[0m         \u001b[0;34m'request_auth'\u001b[0m\u001b[0;34m,\u001b[0m\u001b[0;34m\u001b[0m\u001b[0;34m\u001b[0m\u001b[0m\n\u001b[1;32m    139\u001b[0m         \u001b[0mrequest\u001b[0m\u001b[0;34m=\u001b[0m\u001b[0;34m{\u001b[0m\u001b[0;34m'authType'\u001b[0m\u001b[0;34m:\u001b[0m \u001b[0;34m'dfs_ephemeral'\u001b[0m\u001b[0;34m}\u001b[0m\u001b[0;34m,\u001b[0m\u001b[0;34m\u001b[0m\u001b[0;34m\u001b[0m\u001b[0m\n",
            "\u001b[0;32m/usr/local/lib/python3.11/dist-packages/google/colab/_message.py\u001b[0m in \u001b[0;36mblocking_request\u001b[0;34m(request_type, request, timeout_sec, parent)\u001b[0m\n\u001b[1;32m    174\u001b[0m       \u001b[0mrequest_type\u001b[0m\u001b[0;34m,\u001b[0m \u001b[0mrequest\u001b[0m\u001b[0;34m,\u001b[0m \u001b[0mparent\u001b[0m\u001b[0;34m=\u001b[0m\u001b[0mparent\u001b[0m\u001b[0;34m,\u001b[0m \u001b[0mexpect_reply\u001b[0m\u001b[0;34m=\u001b[0m\u001b[0;32mTrue\u001b[0m\u001b[0;34m\u001b[0m\u001b[0;34m\u001b[0m\u001b[0m\n\u001b[1;32m    175\u001b[0m   )\n\u001b[0;32m--> 176\u001b[0;31m   \u001b[0;32mreturn\u001b[0m \u001b[0mread_reply_from_input\u001b[0m\u001b[0;34m(\u001b[0m\u001b[0mrequest_id\u001b[0m\u001b[0;34m,\u001b[0m \u001b[0mtimeout_sec\u001b[0m\u001b[0;34m)\u001b[0m\u001b[0;34m\u001b[0m\u001b[0;34m\u001b[0m\u001b[0m\n\u001b[0m",
            "\u001b[0;32m/usr/local/lib/python3.11/dist-packages/google/colab/_message.py\u001b[0m in \u001b[0;36mread_reply_from_input\u001b[0;34m(message_id, timeout_sec)\u001b[0m\n\u001b[1;32m    101\u001b[0m     ):\n\u001b[1;32m    102\u001b[0m       \u001b[0;32mif\u001b[0m \u001b[0;34m'error'\u001b[0m \u001b[0;32min\u001b[0m \u001b[0mreply\u001b[0m\u001b[0;34m:\u001b[0m\u001b[0;34m\u001b[0m\u001b[0;34m\u001b[0m\u001b[0m\n\u001b[0;32m--> 103\u001b[0;31m         \u001b[0;32mraise\u001b[0m \u001b[0mMessageError\u001b[0m\u001b[0;34m(\u001b[0m\u001b[0mreply\u001b[0m\u001b[0;34m[\u001b[0m\u001b[0;34m'error'\u001b[0m\u001b[0;34m]\u001b[0m\u001b[0;34m)\u001b[0m\u001b[0;34m\u001b[0m\u001b[0;34m\u001b[0m\u001b[0m\n\u001b[0m\u001b[1;32m    104\u001b[0m       \u001b[0;32mreturn\u001b[0m \u001b[0mreply\u001b[0m\u001b[0;34m.\u001b[0m\u001b[0mget\u001b[0m\u001b[0;34m(\u001b[0m\u001b[0;34m'data'\u001b[0m\u001b[0;34m,\u001b[0m \u001b[0;32mNone\u001b[0m\u001b[0;34m)\u001b[0m\u001b[0;34m\u001b[0m\u001b[0;34m\u001b[0m\u001b[0m\n\u001b[1;32m    105\u001b[0m \u001b[0;34m\u001b[0m\u001b[0m\n",
            "\u001b[0;31mMessageError\u001b[0m: Error: credential propagation was unsuccessful"
          ]
        }
      ]
    },
    {
      "cell_type": "code",
      "source": [
        "# --- Desarrollo de la Pregunta 3 ---\n",
        "print(\"\\n--- Pregunta 3: Iniciando procesamiento ---\")\n",
        "\n",
        "# 1. Carga age_groups.csv en un DataFrame df_age_groups.\n",
        "age_groups_csv_path = os.path.join(path, \"age_groups.csv\") # Asume que está en la misma carpeta\n",
        "try:\n",
        "    df_age_groups = pd.read_csv(age_groups_csv_path)\n",
        "    print(\"\\nDataset 'age_groups.csv' cargado exitosamente.\")\n",
        "    print(\"Primeras 5 filas de df_age_groups:\")\n",
        "    print(df_age_groups.head())\n",
        "except FileNotFoundError:\n",
        "    print(f\"Error: 'age_groups.csv' no encontrado en {age_groups_csv_path}.\")\n",
        "    print(\"Por favor, asegúrate de que este archivo esté en el mismo directorio donde 'diabetes.csv' fue descargado, o especifica su ruta correcta.\")\n",
        "    exit() # No podemos continuar sin este archivo\n",
        "\n",
        "# 2. Haz un merge de df_diabetes con df_age_groups por la columna Age.\n",
        "#    El resultado se llamará df_combinado. Debe ser un left merge.\n",
        "print(\"\\nRealizando el merge (left join) de df_diabetes con df_age_groups por la columna 'Age'...\")\n",
        "df_combinado = pd.merge(df_diabetes, df_age_groups, on='Age', how='left')\n",
        "\n",
        "print(\"Merge completado. Nuevo DataFrame creado: df_combinado.\")\n",
        "\n",
        "# 3. Muestra las 5 primeras filas de df_combinado para verificar que la columna AgeGroup\n",
        "#    se haya agregado correctamente.\n",
        "print(\"\\nPrimeras 5 filas de df_combinado (verificando 'AgeGroup'):\")\n",
        "print(df_combinado.head())\n",
        "\n",
        "# Opcional: Verificar cuántos valores nulos hay en AgeGroup después del merge\n",
        "# Esto es útil para ver si todas las edades de df_diabetes encontraron una coincidencia en df_age_groups\n",
        "print(f\"\\nNúmero de valores nulos en 'AgeGroup' después del merge: {df_combinado['AgeGroup'].isnull().sum()}\")\n",
        "\n",
        "print(\"\\n--- Pregunta 3: Finalizada ---\")"
      ],
      "metadata": {
        "colab": {
          "base_uri": "https://localhost:8080/",
          "height": 315
        },
        "id": "LWPkqa00PVMX",
        "outputId": "837dfea6-3835-4861-a909-593bd540bba2"
      },
      "execution_count": 14,
      "outputs": [
        {
          "output_type": "stream",
          "name": "stdout",
          "text": [
            "\n",
            "--- Pregunta 3: Iniciando procesamiento ---\n",
            "Error: 'age_groups.csv' no encontrado en /kaggle/input/pima-indians-diabetes-database/age_groups.csv.\n",
            "Por favor, asegúrate de que este archivo esté en el mismo directorio donde 'diabetes.csv' fue descargado, o especifica su ruta correcta.\n",
            "\n",
            "Realizando el merge (left join) de df_diabetes con df_age_groups por la columna 'Age'...\n"
          ]
        },
        {
          "output_type": "error",
          "ename": "NameError",
          "evalue": "name 'df_age_groups' is not defined",
          "traceback": [
            "\u001b[0;31m---------------------------------------------------------------------------\u001b[0m",
            "\u001b[0;31mNameError\u001b[0m                                 Traceback (most recent call last)",
            "\u001b[0;32m/tmp/ipython-input-14-521230188.py\u001b[0m in \u001b[0;36m<cell line: 0>\u001b[0;34m()\u001b[0m\n\u001b[1;32m     17\u001b[0m \u001b[0;31m#    El resultado se llamará df_combinado. Debe ser un left merge.\u001b[0m\u001b[0;34m\u001b[0m\u001b[0;34m\u001b[0m\u001b[0m\n\u001b[1;32m     18\u001b[0m \u001b[0mprint\u001b[0m\u001b[0;34m(\u001b[0m\u001b[0;34m\"\\nRealizando el merge (left join) de df_diabetes con df_age_groups por la columna 'Age'...\"\u001b[0m\u001b[0;34m)\u001b[0m\u001b[0;34m\u001b[0m\u001b[0;34m\u001b[0m\u001b[0m\n\u001b[0;32m---> 19\u001b[0;31m \u001b[0mdf_combinado\u001b[0m \u001b[0;34m=\u001b[0m \u001b[0mpd\u001b[0m\u001b[0;34m.\u001b[0m\u001b[0mmerge\u001b[0m\u001b[0;34m(\u001b[0m\u001b[0mdf_diabetes\u001b[0m\u001b[0;34m,\u001b[0m \u001b[0mdf_age_groups\u001b[0m\u001b[0;34m,\u001b[0m \u001b[0mon\u001b[0m\u001b[0;34m=\u001b[0m\u001b[0;34m'Age'\u001b[0m\u001b[0;34m,\u001b[0m \u001b[0mhow\u001b[0m\u001b[0;34m=\u001b[0m\u001b[0;34m'left'\u001b[0m\u001b[0;34m)\u001b[0m\u001b[0;34m\u001b[0m\u001b[0;34m\u001b[0m\u001b[0m\n\u001b[0m\u001b[1;32m     20\u001b[0m \u001b[0;34m\u001b[0m\u001b[0m\n\u001b[1;32m     21\u001b[0m \u001b[0mprint\u001b[0m\u001b[0;34m(\u001b[0m\u001b[0;34m\"Merge completado. Nuevo DataFrame creado: df_combinado.\"\u001b[0m\u001b[0;34m)\u001b[0m\u001b[0;34m\u001b[0m\u001b[0;34m\u001b[0m\u001b[0m\n",
            "\u001b[0;31mNameError\u001b[0m: name 'df_age_groups' is not defined"
          ]
        }
      ]
    }
  ]
}